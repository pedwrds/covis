{
 "cells": [
  {
   "cell_type": "code",
   "execution_count": null,
   "metadata": {},
   "outputs": [],
   "source": [
    "import json\n",
    "import pandas as pd\n",
    "import matplotlib.pyplot as plt\n",
    "import seaborn as sns\n",
    "\n",
    "from covis.utils import get_project_root\n",
    "\n",
    "pd.set_option(\"display.max_column\", None)\n",
    "sns.set_style(\"whitegrid\")\n",
    "sns.set_palette(\"tab20\")"
   ]
  },
  {
   "cell_type": "code",
   "execution_count": null,
   "metadata": {},
   "outputs": [],
   "source": []
  },
  {
   "cell_type": "code",
   "execution_count": null,
   "metadata": {},
   "outputs": [],
   "source": [
    "# jpath = get_project_root() / \"output/eer_dict.json\"\n",
    "# with open(jpath) as f:\n",
    "#     eer = json.load(f)\n",
    "\n",
    "# rows = [4,5]\n",
    "# rows.extend(range(76,86))\n",
    "\n",
    "# weekly_reg_covid19_2020 = pd.read_excel(\n",
    "#     get_project_root() / \"data/publishedweek532020.xlsx\",\n",
    "#     sheet_name=\"Covid-19 - Weekly registrations\",\n",
    "#     skiprows=lambda x: x not in rows,\n",
    "#     usecols=lambda x: x not in [\"Unnamed: 1\"]\n",
    "# )\n",
    "\n",
    "# weekly_reg_covid19_2020 = weekly_reg_covid19_2020.set_index(\"Week number\").transpose()\n",
    "# weekly_reg_covid19_2020.rename(columns={\"covid19 deaths, all ages\":\"covid19 deaths, all ages (2020)\"}, inplace=True)\n",
    "# weekly_reg_covid19_2020.rename(columns=eer, inplace=True)\n",
    "\n",
    "# for col in [col for col in weekly_reg_covid19_2020.columns if col not in [\"Week ended\"]]:\n",
    "#     weekly_reg_covid19_2020[col] = weekly_reg_covid19_2020[col].astype(int)\n",
    "\n",
    "# weekly_reg_covid19_2020[\"total\"] = weekly_reg_covid19_2020.sum(axis=1)\n",
    "\n",
    "# print(f\"covid19 deaths 2020\\n{weekly_reg_covid19_2020.shape}\")\n",
    "# weekly_reg_covid19_2020.head(50)"
   ]
  },
  {
   "attachments": {},
   "cell_type": "markdown",
   "metadata": {},
   "source": [
    "### will look at the period march 2020 - may 2020 (before advice / lockdowns occur)"
   ]
  },
  {
   "cell_type": "code",
   "execution_count": null,
   "metadata": {},
   "outputs": [],
   "source": [
    "rows = [4,5]\n",
    "rows.extend(range(11,31))\n",
    "\n",
    "total = pd.read_excel(\n",
    "    get_project_root() / \"data/publishedweek532020.xlsx\",\n",
    "    # sheet_name=\"UK - Covid-19 - Weekly reg\",\n",
    "    sheet_name=\"Covid-19 - Weekly registrations\",\n",
    "    skiprows=lambda x: x not in rows,\n",
    "    # usecols=lambda x: x not in [\"Unnamed: 1\"]\n",
    ")\n",
    "\n",
    "for i in range(1,21):\n",
    "    total[\"Week number\"][i] = total[\"Unnamed: 1\"][i]\n",
    "\n",
    "total.drop(columns=[\"Unnamed: 1\"], inplace=True)"
   ]
  },
  {
   "cell_type": "code",
   "execution_count": null,
   "metadata": {},
   "outputs": [],
   "source": [
    "# total"
   ]
  },
  {
   "cell_type": "code",
   "execution_count": null,
   "metadata": {},
   "outputs": [],
   "source": [
    "total = total.set_index(\"Week number\").transpose()"
   ]
  },
  {
   "cell_type": "code",
   "execution_count": null,
   "metadata": {},
   "outputs": [],
   "source": [
    "total.dtypes"
   ]
  },
  {
   "cell_type": "code",
   "execution_count": null,
   "metadata": {},
   "outputs": [],
   "source": [
    "# cast to integers\n",
    "for col in [col for col in total.columns if col not in [\"Week ended\"]]:\n",
    "    total[col] = total[col].astype(int)"
   ]
  },
  {
   "cell_type": "code",
   "execution_count": null,
   "metadata": {},
   "outputs": [],
   "source": [
    "total_mam = total[total[\"Week ended\"].between(\"2020-03-01\", \"2020-05-31\")].copy()"
   ]
  },
  {
   "cell_type": "code",
   "execution_count": null,
   "metadata": {},
   "outputs": [],
   "source": [
    "total_mam"
   ]
  },
  {
   "cell_type": "code",
   "execution_count": null,
   "metadata": {},
   "outputs": [],
   "source": [
    "sns.barplot(\n",
    "    total_mam\n",
    ");"
   ]
  },
  {
   "cell_type": "code",
   "execution_count": null,
   "metadata": {},
   "outputs": [],
   "source": [
    "total_mam.sum()"
   ]
  },
  {
   "attachments": {},
   "cell_type": "markdown",
   "metadata": {},
   "source": []
  },
  {
   "cell_type": "code",
   "execution_count": null,
   "metadata": {},
   "outputs": [],
   "source": [
    "def get_age_data_2020(rows, start, end):\n",
    "    df = pd.read_excel(\n",
    "        get_project_root() / \"data/publishedweek532020.xlsx\",\n",
    "        sheet_name=\"Covid-19 - Weekly registrations\",\n",
    "        skiprows=lambda x: x not in rows\n",
    "    )\n",
    "\n",
    "    for i in range(1,21):\n",
    "        df[\"Week number\"][i] = df[\"Unnamed: 1\"][i]\n",
    "\n",
    "    df.drop(columns=[\"Unnamed: 1\"], inplace=True)\n",
    "\n",
    "    df = df.set_index(\"Week number\").transpose()\n",
    "    \n",
    "    for col in [col for col in df.columns if col not in [\"Week ended\"]]:\n",
    "        df[col] = df[col].astype(int)\n",
    "\n",
    "    df = df[df[\"Week ended\"].between(f\"{start}\", f\"{end}\")]\n",
    "\n",
    "    return df"
   ]
  },
  {
   "cell_type": "code",
   "execution_count": null,
   "metadata": {},
   "outputs": [],
   "source": [
    "rows = [4,5]\n",
    "rows.extend(range(33,53))\n",
    "\n",
    "males_mam = get_age_data_2020(rows, \"2020-03-01\", \"2020-05-31\")"
   ]
  },
  {
   "cell_type": "code",
   "execution_count": null,
   "metadata": {},
   "outputs": [],
   "source": [
    "males_mam"
   ]
  },
  {
   "cell_type": "code",
   "execution_count": null,
   "metadata": {},
   "outputs": [],
   "source": [
    "# males_mam.sum()"
   ]
  },
  {
   "cell_type": "code",
   "execution_count": null,
   "metadata": {},
   "outputs": [],
   "source": [
    "rows = [4,5]\n",
    "rows.extend(range(55,75))\n",
    "\n",
    "females_mam = get_age_data_2020(rows, \"2020-03-01\", \"2020-05-31\")"
   ]
  },
  {
   "cell_type": "code",
   "execution_count": null,
   "metadata": {},
   "outputs": [],
   "source": [
    "females_mam"
   ]
  },
  {
   "cell_type": "code",
   "execution_count": null,
   "metadata": {},
   "outputs": [],
   "source": [
    "# females_mam.sum()"
   ]
  },
  {
   "cell_type": "code",
   "execution_count": null,
   "metadata": {},
   "outputs": [],
   "source": [
    "males_mam = males_mam.melt(\n",
    "    \"Week ended\",\n",
    "    var_name=\"age\",\n",
    "    value_name=\"deaths\"\n",
    ")\n",
    "\n",
    "males_mam = males_mam.groupby(\"age\").sum()\n",
    "males_mam[\"sex\"] = [\"male\"]*len(males_mam)"
   ]
  },
  {
   "cell_type": "code",
   "execution_count": null,
   "metadata": {},
   "outputs": [],
   "source": [
    "females_mam = females_mam.melt(\n",
    "    \"Week ended\",\n",
    "    var_name=\"age\",\n",
    "    value_name=\"deaths\"\n",
    ")\n",
    "\n",
    "females_mam = females_mam.groupby(\"age\").sum()\n",
    "females_mam[\"sex\"] = [\"female\"]*len(females_mam)"
   ]
  },
  {
   "cell_type": "code",
   "execution_count": null,
   "metadata": {},
   "outputs": [],
   "source": [
    "males_mam"
   ]
  },
  {
   "cell_type": "code",
   "execution_count": null,
   "metadata": {},
   "outputs": [],
   "source": [
    "females_mam"
   ]
  },
  {
   "cell_type": "code",
   "execution_count": null,
   "metadata": {},
   "outputs": [],
   "source": [
    "age_sex = pd.concat(\n",
    "    [males_mam, females_mam]\n",
    ")"
   ]
  },
  {
   "cell_type": "code",
   "execution_count": null,
   "metadata": {},
   "outputs": [],
   "source": [
    "age_sex.rename(index={\"<1\":\"0\", \"1-4\":\"01-04\", \"5-9\":\"05-09\"}, inplace=True)"
   ]
  },
  {
   "cell_type": "code",
   "execution_count": null,
   "metadata": {},
   "outputs": [],
   "source": [
    "age_sex.sort_index(inplace=True)"
   ]
  },
  {
   "cell_type": "code",
   "execution_count": null,
   "metadata": {},
   "outputs": [],
   "source": [
    "fig = plt.figure(figsize=(12,5))\n",
    "ax = fig.add_subplot(111)\n",
    "\n",
    "sns.barplot(\n",
    "    age_sex,\n",
    "    x=age_sex.index,\n",
    "    y=\"deaths\",\n",
    "    hue=\"sex\",\n",
    "    errorbar=None,\n",
    "    ax=ax\n",
    ")\n",
    "\n",
    "ax.set_xlabel(\"age group\")\n",
    "fig.suptitle(\"registered deaths due to covid-19 (march 2020 - may 2020), england & wales\")\n",
    "fig.tight_layout();"
   ]
  },
  {
   "cell_type": "code",
   "execution_count": null,
   "metadata": {},
   "outputs": [],
   "source": [
    "# fig.savefig(\n",
    "#     get_project_root() / \"figures/age_sex_march_may_2020.png\"\n",
    "# )"
   ]
  },
  {
   "cell_type": "code",
   "execution_count": null,
   "metadata": {},
   "outputs": [],
   "source": []
  }
 ],
 "metadata": {
  "kernelspec": {
   "display_name": "covis-AUuIUVGj-py3.10",
   "language": "python",
   "name": "python3"
  },
  "language_info": {
   "codemirror_mode": {
    "name": "ipython",
    "version": 3
   },
   "file_extension": ".py",
   "mimetype": "text/x-python",
   "name": "python",
   "nbconvert_exporter": "python",
   "pygments_lexer": "ipython3",
   "version": "3.10.9"
  }
 },
 "nbformat": 4,
 "nbformat_minor": 2
}
