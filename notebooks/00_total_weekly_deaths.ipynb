{
 "cells": [
  {
   "cell_type": "code",
   "execution_count": null,
   "metadata": {},
   "outputs": [],
   "source": [
    "import pandas as pd\n",
    "import matplotlib.pyplot as plt\n",
    "import seaborn as sns\n",
    "\n",
    "sns.set_style(\"whitegrid\")\n",
    "sns.set_palette(\"tab20\")\n",
    "\n",
    "from scipy import stats\n",
    "\n",
    "from covis.utils import get_project_root"
   ]
  },
  {
   "attachments": {},
   "cell_type": "markdown",
   "metadata": {},
   "source": [
    "# data wrangling to extract total number of deaths England & Wales 2017 - 2023"
   ]
  },
  {
   "attachments": {},
   "cell_type": "markdown",
   "metadata": {},
   "source": [
    "## 2023"
   ]
  },
  {
   "cell_type": "code",
   "execution_count": null,
   "metadata": {},
   "outputs": [],
   "source": [
    "weekly_2023 = pd.read_excel(\n",
    "    get_project_root() / \"data/publicationfileweek172023.xlsx\",\n",
    "    sheet_name=3,\n",
    "    header=5\n",
    ")"
   ]
  },
  {
   "cell_type": "code",
   "execution_count": null,
   "metadata": {},
   "outputs": [],
   "source": [
    "print(weekly_2023.shape)\n",
    "weekly_2023.head()"
   ]
  },
  {
   "cell_type": "code",
   "execution_count": null,
   "metadata": {},
   "outputs": [],
   "source": [
    "weekly_2023.dtypes"
   ]
  },
  {
   "cell_type": "code",
   "execution_count": null,
   "metadata": {},
   "outputs": [],
   "source": [
    "weekly_2023.groupby(\"Week ended\")[\"Total deaths England and Wales (2023)\"].sum()"
   ]
  },
  {
   "cell_type": "code",
   "execution_count": null,
   "metadata": {},
   "outputs": [],
   "source": [
    "weekly_2023 = weekly_2023[[\n",
    "    \"Week number\",\n",
    "    \"Week ended\",\n",
    "    \"Total deaths England and Wales (2023)\",\n",
    "]].set_index(\"Week number\")\n",
    "\n",
    "weekly_2023.rename(columns={\"Total deaths England and Wales (2023)\":\"Total deaths, all ages (2023)\"}, inplace=True)"
   ]
  },
  {
   "cell_type": "code",
   "execution_count": null,
   "metadata": {},
   "outputs": [],
   "source": [
    "print(weekly_2023.shape)\n",
    "weekly_2023.head()"
   ]
  },
  {
   "attachments": {},
   "cell_type": "markdown",
   "metadata": {},
   "source": [
    "## 2022"
   ]
  },
  {
   "cell_type": "code",
   "execution_count": null,
   "metadata": {},
   "outputs": [],
   "source": [
    "weekly_2022 = pd.read_excel(\n",
    "    get_project_root() / \"data/publicationfileweek522022.xlsx\",\n",
    "    sheet_name=3,\n",
    "    header=5\n",
    ")"
   ]
  },
  {
   "cell_type": "code",
   "execution_count": null,
   "metadata": {},
   "outputs": [],
   "source": [
    "print(weekly_2022.shape)\n",
    "weekly_2022.head()"
   ]
  },
  {
   "cell_type": "code",
   "execution_count": null,
   "metadata": {},
   "outputs": [],
   "source": [
    "weekly_2022.dtypes"
   ]
  },
  {
   "cell_type": "code",
   "execution_count": null,
   "metadata": {},
   "outputs": [],
   "source": [
    "weekly_2022 = weekly_2022[[\"Week number\", \"Week ended\", \"Total deaths England and Wales (2022)\"]].set_index(\"Week number\")\n",
    "weekly_2022.rename(columns={\"Total deaths England and Wales (2022)\":\"Total deaths, all ages (2022)\"}, inplace=True)"
   ]
  },
  {
   "cell_type": "code",
   "execution_count": null,
   "metadata": {},
   "outputs": [],
   "source": [
    "print(weekly_2022.shape)\n",
    "weekly_2022.head()"
   ]
  },
  {
   "attachments": {},
   "cell_type": "markdown",
   "metadata": {},
   "source": [
    "# 2021\n",
    "* sheet has a different format, so alter the read in commands"
   ]
  },
  {
   "cell_type": "code",
   "execution_count": null,
   "metadata": {},
   "outputs": [],
   "source": [
    "# find the rows to read in by trail:\n",
    "weekly_2021 = pd.read_excel(\n",
    "    get_project_root() / \"data/publishedweek522021.xlsx\",\n",
    "    sheet_name=\"Weekly figures 2021\",\n",
    "    skiprows=lambda x: x not in [4,5,8],\n",
    "    usecols=lambda x: x not in [\"53 7\", \"Unnamed: 1\"]\n",
    ")"
   ]
  },
  {
   "cell_type": "code",
   "execution_count": null,
   "metadata": {},
   "outputs": [],
   "source": [
    "weekly_2021"
   ]
  },
  {
   "cell_type": "code",
   "execution_count": null,
   "metadata": {},
   "outputs": [],
   "source": [
    "weekly_2021 = weekly_2021.set_index(\"Week number\").transpose()"
   ]
  },
  {
   "cell_type": "code",
   "execution_count": null,
   "metadata": {},
   "outputs": [],
   "source": [
    "print(weekly_2021.shape)\n",
    "weekly_2021.head()"
   ]
  },
  {
   "cell_type": "code",
   "execution_count": null,
   "metadata": {},
   "outputs": [],
   "source": [
    "weekly_2021.dtypes"
   ]
  },
  {
   "attachments": {},
   "cell_type": "markdown",
   "metadata": {},
   "source": [
    "## 2020"
   ]
  },
  {
   "cell_type": "code",
   "execution_count": null,
   "metadata": {},
   "outputs": [],
   "source": [
    "weekly_2020 = pd.read_excel(\n",
    "    get_project_root() / \"data/publishedweek532020.xlsx\",\n",
    "    sheet_name=\"Weekly figures 2020\",\n",
    "    skiprows=lambda x: x not in [4,5,8],\n",
    "    usecols=lambda x: x not in [\"Unnamed: 1\"]\n",
    ")\n",
    "\n",
    "weekly_2020 = weekly_2020.set_index(\"Week number\").transpose()\n",
    "weekly_2020.rename(columns={\"Total deaths, all ages\":\"Total deaths, all ages (2020)\"}, inplace=True)\n",
    "\n",
    "print(weekly_2020.shape)\n",
    "weekly_2020.tail()"
   ]
  },
  {
   "attachments": {},
   "cell_type": "markdown",
   "metadata": {},
   "source": [
    "## 2019"
   ]
  },
  {
   "cell_type": "code",
   "execution_count": null,
   "metadata": {},
   "outputs": [],
   "source": [
    "weekly_2019 = pd.read_excel(\n",
    "    get_project_root() / \"data/publishedweek522019.xls\",\n",
    "    sheet_name=\"Weekly figures 2019\",\n",
    "    # skiprows=lambda x: x not in range(10),\n",
    "    skiprows=lambda x: x not in [3,4,7],\n",
    "    usecols=lambda x: x not in [\"Unnamed: 1\"]\n",
    ")\n",
    "\n",
    "weekly_2019 = weekly_2019.set_index(\"Week number\").transpose()\n",
    "weekly_2019.rename(columns={\"Total deaths, all ages\":\"Total deaths, all ages (2019)\"}, inplace=True)\n",
    "\n",
    "print(weekly_2019.shape)\n",
    "weekly_2019.head()"
   ]
  },
  {
   "attachments": {},
   "cell_type": "markdown",
   "metadata": {},
   "source": [
    "## 2018"
   ]
  },
  {
   "cell_type": "code",
   "execution_count": null,
   "metadata": {},
   "outputs": [],
   "source": [
    "weekly_2018 = pd.read_excel(\n",
    "    get_project_root() / \"data/publishedweek522018withupdatedrespiratoryrow.xls\",\n",
    "    sheet_name=\"Weekly figures 2018\",\n",
    "    # skiprows=lambda x: x not in range(10),\n",
    "    skiprows=lambda x: x not in [3,4,7],\n",
    "    usecols=lambda x: x not in [\"Unnamed: 1\"]\n",
    ")\n",
    "\n",
    "weekly_2018 = weekly_2018.set_index(\"Week number\").transpose()\n",
    "weekly_2018.rename(columns={\"Total deaths, all ages\":\"Total deaths, all ages (2018)\"}, inplace=True)\n",
    "\n",
    "print(weekly_2018.shape)\n",
    "weekly_2018.head()"
   ]
  },
  {
   "attachments": {},
   "cell_type": "markdown",
   "metadata": {},
   "source": [
    "# 2017"
   ]
  },
  {
   "cell_type": "code",
   "execution_count": null,
   "metadata": {},
   "outputs": [],
   "source": [
    "weekly_2017 = pd.read_excel(\n",
    "    get_project_root() / \"data/publishedweek522017.xls\",\n",
    "    sheet_name=\"Weekly figures 2017\",\n",
    "    # skiprows=lambda x: x not in range(10),\n",
    "    skiprows=lambda x: x not in [3,4,7],\n",
    "    usecols=lambda x: x not in [\"Unnamed: 1\"]\n",
    ")\n",
    "\n",
    "weekly_2017 = weekly_2017.set_index(\"Week number\").transpose()\n",
    "weekly_2017.rename(columns={\"Total deaths, all ages\":\"Total deaths, all ages (2017)\"}, inplace=True)\n",
    "\n",
    "print(weekly_2017.shape)\n",
    "weekly_2017.head()"
   ]
  },
  {
   "cell_type": "code",
   "execution_count": null,
   "metadata": {},
   "outputs": [],
   "source": [
    "df = weekly_2023.rename(columns={c:c[:-7] for c in weekly_2023.columns if c.startswith(\"Total deaths\")})\n",
    "for year_weekly in [weekly_2022, weekly_2021, weekly_2020, weekly_2019, weekly_2018, weekly_2017]:\n",
    "    df = pd.concat(\n",
    "        [df, year_weekly.rename(columns={c:c[:-7] for c in year_weekly.columns if c.startswith(\"Total deaths\")})]\n",
    "    )\n",
    "\n",
    "# df.to_csv(\n",
    "#     get_project_root() / \"output/total_deaths_per_week_2017-2023.csv\"\n",
    "# )\n",
    "\n",
    "print(df.shape)\n",
    "df.head()"
   ]
  },
  {
   "cell_type": "code",
   "execution_count": null,
   "metadata": {},
   "outputs": [],
   "source": [
    "fig = plt.figure(figsize=(7,5))\n",
    "ax = fig.add_subplot(111)\n",
    "\n",
    "sns.lineplot(\n",
    "    data=df,\n",
    "    x=\"Week ended\",\n",
    "    y=\"Total deaths, all ages\",\n",
    "    estimator=\"mean\",\n",
    "    ax=ax,\n",
    "    label=\"weekly total deaths\"\n",
    ")\n",
    "ax.axhline(\n",
    "    y=df[\"Total deaths, all ages\"].mean(),\n",
    "    c=\"tab:orange\",\n",
    "    ls=\"--\",\n",
    "    label=\"average\"\n",
    ")\n",
    "\n",
    "ax.set_ylabel(\"Total Deaths\")\n",
    "ax.set_xlabel(\"\")\n",
    "ax.legend()\n",
    "\n",
    "fig.suptitle(\"Total Weekly Deaths, England & Wales (2017-2023)\")\n",
    "fig.text(0.1,-0.05,\"$^{*}$average is calculated over the plotted period\")\n",
    "fig.tight_layout();"
   ]
  },
  {
   "cell_type": "code",
   "execution_count": null,
   "metadata": {},
   "outputs": [],
   "source": [
    "# fig.savefig(\n",
    "#     get_project_root() / \"figures/total_weekly_deaths.png\"\n",
    "# )"
   ]
  },
  {
   "attachments": {},
   "cell_type": "markdown",
   "metadata": {},
   "source": [
    "## hypothesis test for increase in average deaths per month"
   ]
  },
  {
   "cell_type": "code",
   "execution_count": null,
   "metadata": {},
   "outputs": [],
   "source": [
    "df.dtypes"
   ]
  },
  {
   "cell_type": "code",
   "execution_count": null,
   "metadata": {},
   "outputs": [],
   "source": [
    "df[\"Total deaths, all ages\"] = pd.to_numeric(df[\"Total deaths, all ages\"])"
   ]
  },
  {
   "cell_type": "code",
   "execution_count": null,
   "metadata": {},
   "outputs": [],
   "source": [
    "monthly_deaths = df.set_index(\"Week ended\").groupby(pd.Grouper(freq=\"M\")).sum()"
   ]
  },
  {
   "cell_type": "code",
   "execution_count": null,
   "metadata": {},
   "outputs": [],
   "source": [
    "monthly_deaths.loc[\"01/01/2017\":\"12/31/2019\"][\"Total deaths, all ages\"].plot(kind=\"hist\");"
   ]
  },
  {
   "cell_type": "code",
   "execution_count": null,
   "metadata": {},
   "outputs": [],
   "source": [
    "monthly_deaths.loc[\"01/01/2020\":\"12/31/2020\"][\"Total deaths, all ages\"].plot(kind=\"hist\");"
   ]
  },
  {
   "attachments": {},
   "cell_type": "markdown",
   "metadata": {},
   "source": [
    "* will probably have to look at weekly numbers to assume some normality in the distribution"
   ]
  },
  {
   "cell_type": "code",
   "execution_count": null,
   "metadata": {},
   "outputs": [],
   "source": [
    "df.set_index(\"Week ended\").loc[\"01/01/2017\":\"12/31/2019\"][\"Total deaths, all ages\"].plot(kind=\"hist\");"
   ]
  },
  {
   "cell_type": "code",
   "execution_count": null,
   "metadata": {},
   "outputs": [],
   "source": [
    "df.set_index(\"Week ended\").loc[\"01/01/2020\":\"12/31/2020\"][\"Total deaths, all ages\"].plot(kind=\"hist\");"
   ]
  },
  {
   "attachments": {},
   "cell_type": "markdown",
   "metadata": {},
   "source": [
    "* still not fantastic"
   ]
  },
  {
   "cell_type": "code",
   "execution_count": null,
   "metadata": {},
   "outputs": [],
   "source": [
    "g1_weekly_2017_2020 = df.set_index(\"Week ended\").loc[\"01/01/2017\":\"12/31/2019\"][\"Total deaths, all ages\"]"
   ]
  },
  {
   "cell_type": "code",
   "execution_count": null,
   "metadata": {},
   "outputs": [],
   "source": [
    "# g1_weekly_2017_2020"
   ]
  },
  {
   "cell_type": "code",
   "execution_count": null,
   "metadata": {},
   "outputs": [],
   "source": [
    "g2_weekly_2020_2021 = df.set_index(\"Week ended\").loc[\"01/01/2020\":\"12/31/2021\"][\"Total deaths, all ages\"]"
   ]
  },
  {
   "cell_type": "code",
   "execution_count": null,
   "metadata": {},
   "outputs": [],
   "source": [
    "# g2_weekly_2020_2021"
   ]
  },
  {
   "cell_type": "code",
   "execution_count": null,
   "metadata": {},
   "outputs": [],
   "source": [
    "g1_weekly_2017_2020.mean()"
   ]
  },
  {
   "cell_type": "code",
   "execution_count": null,
   "metadata": {},
   "outputs": [],
   "source": [
    "g2_weekly_2020_2021.mean()"
   ]
  },
  {
   "cell_type": "code",
   "execution_count": null,
   "metadata": {},
   "outputs": [],
   "source": [
    "t_test = stats.ttest_ind(g1_weekly_2017_2020, g2_weekly_2020_2021)\n",
    "t_test"
   ]
  },
  {
   "attachments": {},
   "cell_type": "markdown",
   "metadata": {},
   "source": [
    "* for one tailed t-test divide p-value by 2"
   ]
  },
  {
   "cell_type": "code",
   "execution_count": null,
   "metadata": {},
   "outputs": [],
   "source": [
    "t_stat, p_val = t_test"
   ]
  },
  {
   "cell_type": "code",
   "execution_count": null,
   "metadata": {},
   "outputs": [],
   "source": [
    "one_tailed_p = p_val / 2"
   ]
  },
  {
   "cell_type": "code",
   "execution_count": null,
   "metadata": {},
   "outputs": [],
   "source": [
    "one_tailed_p"
   ]
  }
 ],
 "metadata": {
  "kernelspec": {
   "display_name": "covis-AUuIUVGj-py3.10",
   "language": "python",
   "name": "python3"
  },
  "language_info": {
   "codemirror_mode": {
    "name": "ipython",
    "version": 3
   },
   "file_extension": ".py",
   "mimetype": "text/x-python",
   "name": "python",
   "nbconvert_exporter": "python",
   "pygments_lexer": "ipython3",
   "version": "3.10.9"
  }
 },
 "nbformat": 4,
 "nbformat_minor": 2
}
