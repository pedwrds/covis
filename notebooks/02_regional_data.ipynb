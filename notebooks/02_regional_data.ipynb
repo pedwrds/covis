{
 "cells": [
  {
   "cell_type": "code",
   "execution_count": null,
   "metadata": {},
   "outputs": [],
   "source": [
    "import json\n",
    "import numpy as np\n",
    "import pandas as pd\n",
    "import geopandas as gpd\n",
    "import matplotlib.pyplot as plt\n",
    "import matplotlib.dates as mdates\n",
    "from mpl_toolkits.axes_grid1 import make_axes_locatable\n",
    "import seaborn as sns\n",
    "\n",
    "# import cartopy.crs as crs\n",
    "# import holoviews  # noqa: F401\n",
    "# import hvplot.pandas  # noqa: F401\n",
    "# from holoviews import opts  # noqa: F401\n",
    "\n",
    "import plotly.express as px\n",
    "import plotly.graph_objects as go\n",
    "from plotly.subplots import make_subplots\n",
    "\n",
    "from covis.utils import get_project_root"
   ]
  },
  {
   "attachments": {},
   "cell_type": "markdown",
   "metadata": {},
   "source": [
    "# regional totals deaths and deaths due to covid 2020-2022\n",
    "* again, the data in the files do not have the same schema / format, so we cannot write a common function and will investigate each individually"
   ]
  },
  {
   "cell_type": "code",
   "execution_count": null,
   "metadata": {},
   "outputs": [],
   "source": [
    "# map regions:\n",
    "jpath = get_project_root() / \"output/eer_dict.json\"\n",
    "with open(jpath) as f:\n",
    "    eer = json.load(f)\n",
    "\n",
    "eer"
   ]
  },
  {
   "attachments": {},
   "cell_type": "markdown",
   "metadata": {},
   "source": [
    "## regional weekly total deaths"
   ]
  },
  {
   "cell_type": "code",
   "execution_count": null,
   "metadata": {},
   "outputs": [],
   "source": [
    "rows = [4,5]\n",
    "rows.extend(range(86,96))\n",
    "\n",
    "weekly_reg_total_2020 = pd.read_excel(\n",
    "    get_project_root() / \"data/publishedweek532020.xlsx\",\n",
    "    sheet_name=\"Weekly figures 2020\",\n",
    "    skiprows=lambda x: x not in rows,\n",
    "    usecols=lambda x: x not in [\"Unnamed: 1\"]\n",
    ")\n",
    "\n",
    "weekly_reg_total_2020 = weekly_reg_total_2020.set_index(\"Week number\").transpose()\n",
    "weekly_reg_total_2020.rename(columns={\"Total deaths, all ages\":\"Total deaths, all ages (2020)\"}, inplace=True)\n",
    "weekly_reg_total_2020.rename(columns=eer, inplace=True)\n",
    "\n",
    "print(f\"total deaths 2020\\n{weekly_reg_total_2020.shape}\")\n",
    "weekly_reg_total_2020.head()"
   ]
  },
  {
   "cell_type": "code",
   "execution_count": null,
   "metadata": {},
   "outputs": [],
   "source": [
    "# [c for c in weekly_reg_total_2021.columns if c not in [\"Week ended\"]] == [k for k in eer.keys()]"
   ]
  },
  {
   "cell_type": "code",
   "execution_count": null,
   "metadata": {},
   "outputs": [],
   "source": [
    "# eer.keys()"
   ]
  },
  {
   "cell_type": "code",
   "execution_count": null,
   "metadata": {},
   "outputs": [],
   "source": [
    "# weekly_reg_total_2020.dtypes"
   ]
  },
  {
   "cell_type": "code",
   "execution_count": null,
   "metadata": {},
   "outputs": [],
   "source": [
    "rows = [4,5]\n",
    "rows.extend(range(82,92))\n",
    "\n",
    "weekly_reg_total_2021 = pd.read_excel(\n",
    "    get_project_root() / \"data/publishedweek522021.xlsx\",\n",
    "    sheet_name=\"Weekly figures 2021\",\n",
    "    skiprows=lambda x: x not in rows,\n",
    "    usecols=lambda x: x not in [\"53 7\", \"Unnamed: 1\"]\n",
    ")\n",
    "\n",
    "weekly_reg_total_2021 = weekly_reg_total_2021.set_index(\"Week number\").transpose()\n",
    "weekly_reg_total_2021.rename(columns={\"Total deaths, all ages\":\"Total deaths, all ages (2021)\"}, inplace=True)\n",
    "weekly_reg_total_2021.rename(columns=eer, inplace=True)\n",
    "\n",
    "print(f\"total deaths 2021\\n{weekly_reg_total_2021.shape}\")\n",
    "weekly_reg_total_2021.head()"
   ]
  },
  {
   "cell_type": "code",
   "execution_count": null,
   "metadata": {},
   "outputs": [],
   "source": [
    "# weekly_reg_total_2021.dtypes"
   ]
  },
  {
   "attachments": {},
   "cell_type": "markdown",
   "metadata": {},
   "source": [
    "#### format of the file for 2022 is completely different:"
   ]
  },
  {
   "cell_type": "code",
   "execution_count": null,
   "metadata": {},
   "outputs": [],
   "source": [
    "weekly_reg_total_2022 = pd.read_excel(\n",
    "    get_project_root() / \"data/publicationfileweek522022.xlsx\",\n",
    "    sheet_name=\"12a\",\n",
    "    skiprows=lambda x: x not in range(6,59),\n",
    "    index_col=\"Week number\"\n",
    ")\n",
    "weekly_reg_total_2022.rename(columns={\"East of England\":\"Eastern\", \"Week ending\":\"Week ended\"}, inplace=True)\n",
    "\n",
    "print(f\"total deaths 2022\\n{weekly_reg_total_2022.shape}\")\n",
    "weekly_reg_total_2022.head()"
   ]
  },
  {
   "attachments": {},
   "cell_type": "markdown",
   "metadata": {},
   "source": [
    "## regional deaths due to COVID-19"
   ]
  },
  {
   "cell_type": "code",
   "execution_count": null,
   "metadata": {},
   "outputs": [],
   "source": [
    "rows = [4,5]\n",
    "rows.extend(range(76,86))\n",
    "\n",
    "weekly_reg_covid19_2020 = pd.read_excel(\n",
    "    get_project_root() / \"data/publishedweek532020.xlsx\",\n",
    "    sheet_name=\"Covid-19 - Weekly registrations\",\n",
    "    skiprows=lambda x: x not in rows,\n",
    "    usecols=lambda x: x not in [\"Unnamed: 1\"]\n",
    ")\n",
    "\n",
    "weekly_reg_covid19_2020 = weekly_reg_covid19_2020.set_index(\"Week number\").transpose()\n",
    "weekly_reg_covid19_2020.rename(columns={\"covid19 deaths, all ages\":\"covid19 deaths, all ages (2020)\"}, inplace=True)\n",
    "weekly_reg_covid19_2020.rename(columns=eer, inplace=True)\n",
    "\n",
    "print(f\"covid19 deaths 2020\\n{weekly_reg_covid19_2020.shape}\")\n",
    "weekly_reg_covid19_2020.head()"
   ]
  },
  {
   "cell_type": "code",
   "execution_count": null,
   "metadata": {},
   "outputs": [],
   "source": [
    "rows = [4,5]\n",
    "rows.extend(range(76,86))\n",
    "\n",
    "weekly_reg_covid19_2021 = pd.read_excel(\n",
    "    get_project_root() / \"data/publishedweek522021.xlsx\",\n",
    "    sheet_name=\"Covid-19 - Weekly registrations\",\n",
    "    skiprows=lambda x: x not in rows,\n",
    "    usecols=lambda x: x not in [\"Unnamed: 1\"]\n",
    ")\n",
    "\n",
    "weekly_reg_covid19_2021 = weekly_reg_covid19_2021.set_index(\"Week number\").transpose()\n",
    "weekly_reg_covid19_2021.rename(columns={\"covid19 deaths, all ages\":\"covid19 deaths, all ages (2021)\"}, inplace=True)\n",
    "weekly_reg_covid19_2021.rename(columns=eer, inplace=True)\n",
    "\n",
    "print(f\"covid19 deaths 2021\\n{weekly_reg_covid19_2021.shape}\")\n",
    "weekly_reg_covid19_2021.head()"
   ]
  },
  {
   "cell_type": "code",
   "execution_count": null,
   "metadata": {},
   "outputs": [],
   "source": [
    "weekly_reg_covid19_2022 = pd.read_excel(\n",
    "    get_project_root() / \"data/publicationfileweek522022.xlsx\",\n",
    "    sheet_name=\"12a\",\n",
    "    skiprows=lambda x: x not in range(61,114),\n",
    "    index_col=\"Week number\"\n",
    ")\n",
    "weekly_reg_covid19_2022.rename(columns={\"East of England\":\"Eastern\", \"Week ending\":\"Week ended\"}, inplace=True)\n",
    "\n",
    "print(f\"covid19 deaths 2022\\n{weekly_reg_covid19_2022.shape}\")\n",
    "weekly_reg_covid19_2022.head()"
   ]
  },
  {
   "attachments": {},
   "cell_type": "markdown",
   "metadata": {},
   "source": [
    "---\n",
    "## concat dfs"
   ]
  },
  {
   "cell_type": "code",
   "execution_count": null,
   "metadata": {},
   "outputs": [],
   "source": [
    "weekly_reg_total = pd.concat([weekly_reg_total_2020, weekly_reg_total_2021, weekly_reg_total_2022])\n",
    "weekly_reg_covid19 = pd.concat([weekly_reg_covid19_2020, weekly_reg_covid19_2021, weekly_reg_covid19_2022])"
   ]
  },
  {
   "cell_type": "code",
   "execution_count": null,
   "metadata": {},
   "outputs": [],
   "source": [
    "# weekly_reg_total.head()"
   ]
  },
  {
   "attachments": {},
   "cell_type": "markdown",
   "metadata": {},
   "source": [
    "### regional deaths over time"
   ]
  },
  {
   "cell_type": "code",
   "execution_count": null,
   "metadata": {},
   "outputs": [],
   "source": [
    "sns.set_style(\"whitegrid\")\n",
    "sns.set_palette(\"tab20\")\n",
    "\n",
    "fig = plt.figure(figsize=(9,5))\n",
    "ax1 = fig.add_subplot(211)\n",
    "ax2 = fig.add_subplot(212)\n",
    "\n",
    "for col in [col for col in weekly_reg_total.columns if col not in [\"Week ended\"]]:\n",
    "    ax1.plot(\n",
    "        weekly_reg_total[\"Week ended\"],\n",
    "        weekly_reg_total[col],\n",
    "        label=col\n",
    "    )\n",
    "\n",
    "for col in [col for col in weekly_reg_total.columns if col not in [\"Week ended\"]]:\n",
    "    ax2.plot(\n",
    "        weekly_reg_covid19[\"Week ended\"],\n",
    "        weekly_reg_covid19[col],\n",
    "        # label=col\n",
    "    )\n",
    "\n",
    "# weekly_reg_total.plot(\n",
    "#     x=\"Week ended\",\n",
    "#     ax=ax1\n",
    "# )\n",
    "\n",
    "for ax in [ax1,ax2]:\n",
    "    ax.xaxis.set_major_locator(mdates.MonthLocator(interval=6))\n",
    "\n",
    "ax1.set_ylabel(\"total deaths recorded\")\n",
    "ax2.set_ylabel(\"covid19 deaths recorded\")\n",
    "\n",
    "ax2.set_xlabel(\"time\")\n",
    "\n",
    "fig.legend(ncol=5, loc=\"lower center\", bbox_to_anchor=(0.5,-0.1))\n",
    "fig.suptitle(\"regional total deaths and regional covid19 deaths 2020-2022\")\n",
    "\n",
    "fig.tight_layout();"
   ]
  },
  {
   "cell_type": "code",
   "execution_count": null,
   "metadata": {},
   "outputs": [],
   "source": [
    "# fig.savefig(\n",
    "#     get_project_root() / \"figures/reg_tot_reg_covid_time.png\"\n",
    "# )"
   ]
  },
  {
   "cell_type": "code",
   "execution_count": null,
   "metadata": {},
   "outputs": [],
   "source": [
    "# [col for col in weekly_reg_total.columns if col not in [\"Week ended\"]]"
   ]
  },
  {
   "attachments": {},
   "cell_type": "markdown",
   "metadata": {},
   "source": [
    "---\n",
    "## non regional weekly 2020-2022 part-to-whole"
   ]
  },
  {
   "cell_type": "code",
   "execution_count": null,
   "metadata": {},
   "outputs": [],
   "source": [
    "weekly_reg_total[\"england_wales\"] = weekly_reg_total[[col for col in weekly_reg_total.columns if col not in [\"Week ended\"]]].sum(axis=1)\n",
    "\n",
    "weekly_reg_covid19[\"england_wales\"] = weekly_reg_covid19[[col for col in weekly_reg_covid19.columns if col not in [\"Week ended\"]]].sum(axis=1)"
   ]
  },
  {
   "cell_type": "code",
   "execution_count": null,
   "metadata": {},
   "outputs": [],
   "source": [
    "# weekly_reg_covid19.head()"
   ]
  },
  {
   "cell_type": "code",
   "execution_count": null,
   "metadata": {},
   "outputs": [],
   "source": [
    "weekly_england_wales = weekly_reg_total[[\"Week ended\", \"england_wales\"]].merge(\n",
    "    weekly_reg_covid19[[\"Week ended\", \"england_wales\"]],\n",
    "    left_on=\"Week ended\",\n",
    "    right_on=\"Week ended\",\n",
    "    suffixes=(\"_total\", \"_covid19\")\n",
    ")"
   ]
  },
  {
   "cell_type": "code",
   "execution_count": null,
   "metadata": {},
   "outputs": [],
   "source": [
    "# seperate covid and non covid deaths for stackplot:\n",
    "weekly_england_wales[\"england_wales_non_covid\"] = weekly_england_wales[\"england_wales_total\"] - weekly_england_wales[\"england_wales_covid19\"]\n",
    "\n",
    "# get percentage of deaths due to covid\n",
    "weekly_england_wales[\"england_wales_pc_covid\"] = weekly_england_wales[\"england_wales_covid19\"] / weekly_england_wales[\"england_wales_total\"]"
   ]
  },
  {
   "cell_type": "code",
   "execution_count": null,
   "metadata": {},
   "outputs": [],
   "source": [
    "weekly_england_wales.head(30)"
   ]
  },
  {
   "cell_type": "code",
   "execution_count": null,
   "metadata": {},
   "outputs": [],
   "source": [
    "fig = plt.figure(figsize=(7,5))\n",
    "ax = fig.add_subplot(111)\n",
    "\n",
    "ax.stackplot(\n",
    "    weekly_england_wales[\"Week ended\"],\n",
    "    [\n",
    "        weekly_england_wales[\"england_wales_non_covid\"],\n",
    "        weekly_england_wales[\"england_wales_covid19\"]\n",
    "    ],\n",
    "    labels=[\n",
    "        \"deaths not related to covid19\",\n",
    "        \"deaths relating to covid19\"\n",
    "    ]\n",
    ")\n",
    "\n",
    "ax.xaxis.set_major_locator(mdates.MonthLocator(interval=6))\n",
    "\n",
    "ax.set_xlabel(\"time\")\n",
    "ax.set_ylabel(\"number of deaths recorded\")\n",
    "fig.suptitle(\"weekly covid19 and non covid19 related deaths, $2020$-$2022$\")\n",
    "\n",
    "ax.legend()\n",
    "fig.tight_layout();"
   ]
  },
  {
   "attachments": {},
   "cell_type": "markdown",
   "metadata": {},
   "source": [
    "### can use twin axis to add in the \\% of deaths due to covid"
   ]
  },
  {
   "cell_type": "code",
   "execution_count": null,
   "metadata": {},
   "outputs": [],
   "source": [
    "weekly_england_wales[\"england_wales_pc_covid\"].max()"
   ]
  },
  {
   "cell_type": "code",
   "execution_count": null,
   "metadata": {},
   "outputs": [],
   "source": [
    "weekly_england_wales.loc[weekly_england_wales[\"england_wales_pc_covid\"] == weekly_england_wales[\"england_wales_pc_covid\"].max()]"
   ]
  },
  {
   "cell_type": "code",
   "execution_count": null,
   "metadata": {},
   "outputs": [],
   "source": [
    "sns.set_style(\"white\")\n",
    "sns.set_palette(\"tab20\")\n",
    "\n",
    "fig = plt.figure(figsize=(9,5))\n",
    "ax1 = fig.add_subplot(111)\n",
    "ax2=ax1.twinx()\n",
    "\n",
    "ax1.stackplot(\n",
    "    weekly_england_wales[\"Week ended\"],\n",
    "    [\n",
    "        weekly_england_wales[\"england_wales_non_covid\"],\n",
    "        weekly_england_wales[\"england_wales_covid19\"]\n",
    "    ],\n",
    "    labels=[\n",
    "        \"deaths not related to covid19\",\n",
    "        \"deaths relating to covid19\"\n",
    "    ]\n",
    ")\n",
    "\n",
    "ax2.plot(\n",
    "    weekly_england_wales[\"Week ended\"],\n",
    "    weekly_england_wales[\"england_wales_pc_covid\"],\n",
    "    ls=\"--\",\n",
    "    lw=1.3,\n",
    "    c=\"tab:orange\",\n",
    "    label=\"percentage of deaths due to covid19\"\n",
    ")\n",
    "\n",
    "ax1.xaxis.set_major_locator(mdates.MonthLocator(interval=6))\n",
    "# ax1.xaxis.set_minor_locator(mdates.MonthLocator(interval=1))\n",
    "\n",
    "ax1.set_xlabel(\"date\")\n",
    "ax1.set_ylabel(\"number of deaths recorded\")\n",
    "ax1.set_ylim(0,25000)\n",
    "ax2.set_ylabel(\"percentage of deaths relating to covid19\")\n",
    "ax2.set_ylim(0,0.5)\n",
    "# ax2.set_yticks(np.linspace(0,0.20,5))\n",
    "\n",
    "# xticks, _ = plt.xticks(minor=True)\n",
    "# for x0, x1 in zip(xticks[::2], xticks[1::2]):\n",
    "#     ax1.axvspan(x0, x1, color=\"black\", alpha=0.1, zorder=0, lw=0)\n",
    "\n",
    "# ax1.set_axisbelow(True)\n",
    "# ax2.set_axisbelow(True)\n",
    "# plt.grid(which='major', axis='y', zorder=-3)\n",
    "# ax2.set_zorder(-1)\n",
    "# ax.patch.set_visible(True)\n",
    "# ax2.patch.set_visible(False)\n",
    "\n",
    "fig.suptitle(\"weekly covid19 and non-covid19 related deaths, 2020-2022\")\n",
    "# handling the legend https://stackoverflow.com/questions/5484922/secondary-axis-with-twinx-how-to-add-to-legend\n",
    "fig.legend(loc=\"upper right\", bbox_to_anchor=(1.24,0.99), bbox_transform=ax.transAxes)\n",
    "fig.tight_layout();"
   ]
  },
  {
   "cell_type": "code",
   "execution_count": null,
   "metadata": {},
   "outputs": [],
   "source": [
    "# fig.savefig(\n",
    "#     get_project_root() / \"figures/weekly_covid_non_covid.png\"\n",
    "# )"
   ]
  },
  {
   "cell_type": "code",
   "execution_count": null,
   "metadata": {},
   "outputs": [],
   "source": [
    "weekly_england_wales.iloc[6:20]"
   ]
  },
  {
   "attachments": {},
   "cell_type": "markdown",
   "metadata": {},
   "source": [
    "---\n",
    "## covid19 deaths per year as a percentage of total deaths 2020-2022"
   ]
  },
  {
   "cell_type": "code",
   "execution_count": null,
   "metadata": {},
   "outputs": [],
   "source": [
    "# dfs = [weekly_reg_total_2020, weekly_reg_total_2021, weekly_reg_total_2022, weekly_reg_covid19_2020, weekly_reg_covid19_2021, weekly_reg_covid19_2022]"
   ]
  },
  {
   "cell_type": "code",
   "execution_count": null,
   "metadata": {},
   "outputs": [],
   "source": [
    "total_2020 = pd.DataFrame(weekly_reg_total_2020.sum()).transpose()\n",
    "total_2020[\"desc\"] = [\"2020 total\"]\n",
    "total_2020"
   ]
  },
  {
   "cell_type": "code",
   "execution_count": null,
   "metadata": {},
   "outputs": [],
   "source": [
    "# total_2020.dtypes"
   ]
  },
  {
   "cell_type": "code",
   "execution_count": null,
   "metadata": {},
   "outputs": [],
   "source": [
    "total_2021 = pd.DataFrame(weekly_reg_total_2021.sum()).transpose()\n",
    "total_2021[\"desc\"] = [\"2021 total\"]\n",
    "total_2022 = pd.DataFrame(weekly_reg_total_2022.sum()).transpose()\n",
    "total_2022[\"desc\"] = [\"2022 total\"]\n",
    "covid19_2020 = pd.DataFrame(weekly_reg_covid19_2020.sum()).transpose()\n",
    "covid19_2020[\"desc\"] = [\"2020 covid\"]\n",
    "covid19_2021 = pd.DataFrame(weekly_reg_covid19_2021.sum()).transpose()\n",
    "covid19_2021[\"desc\"] = [\"2021 covid\"]\n",
    "covid19_2022 = pd.DataFrame(weekly_reg_covid19_2022.sum()).transpose()\n",
    "covid19_2022[\"desc\"] = [\"2022 covid\"]"
   ]
  },
  {
   "cell_type": "code",
   "execution_count": null,
   "metadata": {},
   "outputs": [],
   "source": [
    "dfs = [total_2020, total_2021, total_2022, covid19_2020, covid19_2021, covid19_2022]"
   ]
  },
  {
   "cell_type": "code",
   "execution_count": null,
   "metadata": {},
   "outputs": [],
   "source": [
    "# join the data summary for the three years:\n",
    "summary = pd.concat(dfs)\n",
    "summary.set_index(\"desc\", inplace=True)\n",
    "\n",
    "# find deaths by covid as a percentage:\n",
    "summary.loc[\"2020_covid_pc\"] = summary.loc[\"2020 covid\"] / summary.loc[\"2020 total\"]\n",
    "summary.loc[\"2021_covid_pc\"] = summary.loc[\"2021 covid\"] / summary.loc[\"2021 total\"]\n",
    "summary.loc[\"2022_covid_pc\"] = summary.loc[\"2022 covid\"] / summary.loc[\"2022 total\"]\n",
    "\n",
    "summary = summary.transpose()\n",
    "summary"
   ]
  },
  {
   "cell_type": "code",
   "execution_count": null,
   "metadata": {},
   "outputs": [],
   "source": [
    "# seemed to be a problem with the datattype after summing?\n",
    "for col in summary.columns:\n",
    "    summary[col] = summary[col].astype(float)"
   ]
  },
  {
   "cell_type": "code",
   "execution_count": null,
   "metadata": {},
   "outputs": [],
   "source": [
    "summary.dtypes"
   ]
  },
  {
   "attachments": {},
   "cell_type": "markdown",
   "metadata": {},
   "source": [
    "## plot choropleth for UK regional \\% deaths due to covid"
   ]
  },
  {
   "cell_type": "code",
   "execution_count": null,
   "metadata": {},
   "outputs": [],
   "source": [
    "geo = gpd.read_parquet(\n",
    "    get_project_root() / \"output/EWgeo.pkl\",\n",
    ")"
   ]
  },
  {
   "cell_type": "code",
   "execution_count": null,
   "metadata": {},
   "outputs": [],
   "source": [
    "geo = geo.set_crs(\"EPSG:27700\")"
   ]
  },
  {
   "cell_type": "code",
   "execution_count": null,
   "metadata": {},
   "outputs": [],
   "source": [
    "# merge geodataframe on left to keep geometry:\n",
    "geo_summary = geo.merge(\n",
    "    summary,\n",
    "    left_on=\"EER13NM\",\n",
    "    # right_on=\"desc\",\n",
    "    right_index=True\n",
    ")\n",
    "\n",
    "geo_summary"
   ]
  },
  {
   "attachments": {},
   "cell_type": "markdown",
   "metadata": {},
   "source": [
    "## choropleth map (nat regional)"
   ]
  },
  {
   "cell_type": "code",
   "execution_count": null,
   "metadata": {},
   "outputs": [],
   "source": [
    "geo_summary.to_crs(\"EPSG:4326\", inplace=True)"
   ]
  },
  {
   "cell_type": "code",
   "execution_count": null,
   "metadata": {},
   "outputs": [],
   "source": [
    "fig = plt.figure(figsize=(12,4.5))\n",
    "ax1 = fig.add_subplot(131)\n",
    "ax2 = fig.add_subplot(132)\n",
    "ax3 = fig.add_subplot(133)\n",
    "\n",
    "cbar_adj = legend_kwds={\n",
    "    \"shrink\":.5,\n",
    "    \"orientation\":\"horizontal\",\n",
    "    \"location\":\"bottom\",\n",
    "    \"pad\":-0.005\n",
    "}\n",
    "\n",
    "for year, a in [(\"2020\", ax1), (\"2021\", ax2), (\"2022\", ax3)]:\n",
    "    a.axis(\"off\")\n",
    "    geo_summary.plot(\n",
    "        column=f\"{year}_covid_pc\",\n",
    "        cmap=\"Reds\",\n",
    "        linewidth=0.5,\n",
    "        ax=a,\n",
    "        edgecolor=\"0.1\",\n",
    "        legend=True,\n",
    "        legend_kwds=cbar_adj\n",
    "    )\n",
    "    a.set_title(f\"{year}\")\n",
    "\n",
    "fig.suptitle(\"UK regional percentage of deaths due to covid 2020-2022\")\n",
    "fig.tight_layout()"
   ]
  },
  {
   "cell_type": "code",
   "execution_count": null,
   "metadata": {},
   "outputs": [],
   "source": [
    "# fig.savefig(\n",
    "#     get_project_root() / \"figures/choro.png\"\n",
    "# )"
   ]
  },
  {
   "cell_type": "code",
   "execution_count": null,
   "metadata": {},
   "outputs": [],
   "source": []
  },
  {
   "cell_type": "code",
   "execution_count": null,
   "metadata": {},
   "outputs": [],
   "source": [
    "fig = px.choropleth(\n",
    "    geo_summary,\n",
    "    geojson=geo_summary.geometry,\n",
    "    locations=geo_summary.index,\n",
    "    color=\"2020_covid_pc\",\n",
    "    color_continuous_scale=\"reds\",\n",
    "    hover_name=\"EER13NM\",\n",
    "    hover_data=[\"2020 total\", \"2020 covid\", \"2020_covid_pc\"],\n",
    ")\n",
    "\n",
    "fig.update_geos(\n",
    "    fitbounds=\"geojson\",\n",
    "    visible=False\n",
    ")"
   ]
  },
  {
   "cell_type": "code",
   "execution_count": null,
   "metadata": {},
   "outputs": [],
   "source": [
    "# fig.write_html(get_project_root()/\"output/choro.html\")"
   ]
  },
  {
   "attachments": {},
   "cell_type": "markdown",
   "metadata": {},
   "source": [
    "### regional population density\n",
    "\n",
    "|Region                   | Number of people per square km |\n",
    "|:------------------------|:-------------------------------|\n",
    "|London                   | 5,596                          |\n",
    "|North West               | 526                            |\n",
    "|South East               | 487                            |\n",
    "|West Midlands            | 458                            |\n",
    "|Yorkshire and The Humber | 356                            |\n",
    "|Eastern                  | 332                            |\n",
    "|North East               | 308                            |\n",
    "|East Midlands            | 312                            |\n",
    "|South West               | 240                            |\n",
    "|Wales                    | 150                           "
   ]
  }
 ],
 "metadata": {
  "kernelspec": {
   "display_name": "covis-AUuIUVGj-py3.10",
   "language": "python",
   "name": "python3"
  },
  "language_info": {
   "codemirror_mode": {
    "name": "ipython",
    "version": 3
   },
   "file_extension": ".py",
   "mimetype": "text/x-python",
   "name": "python",
   "nbconvert_exporter": "python",
   "pygments_lexer": "ipython3",
   "version": "3.10.9"
  }
 },
 "nbformat": 4,
 "nbformat_minor": 2
}
