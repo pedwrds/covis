{
 "cells": [
  {
   "cell_type": "code",
   "execution_count": null,
   "metadata": {},
   "outputs": [],
   "source": [
    "import json\n",
    "import pandas as pd\n",
    "import geopandas as gpd\n",
    "\n",
    "import plotly.express as px\n",
    "\n",
    "from covis.utils import get_project_root"
   ]
  },
  {
   "attachments": {},
   "cell_type": "markdown",
   "metadata": {},
   "source": [
    "# regional choropleth with date slider "
   ]
  },
  {
   "cell_type": "code",
   "execution_count": null,
   "metadata": {},
   "outputs": [],
   "source": [
    "weekly_reg = pd.read_csv(\n",
    "    get_project_root() / \"output/covid19_weekly_regional_deaths_2020-2022.csv\",\n",
    "    index_col=0\n",
    ")"
   ]
  },
  {
   "cell_type": "code",
   "execution_count": null,
   "metadata": {},
   "outputs": [],
   "source": [
    "print(weekly_reg.shape)\n",
    "weekly_reg.head()"
   ]
  },
  {
   "cell_type": "code",
   "execution_count": null,
   "metadata": {},
   "outputs": [],
   "source": [
    "# map regions:\n",
    "jpath = get_project_root() / \"output/eer_dict.json\"\n",
    "with open(jpath) as f:\n",
    "    eer = json.load(f)\n",
    "\n",
    "eer"
   ]
  },
  {
   "cell_type": "code",
   "execution_count": null,
   "metadata": {},
   "outputs": [],
   "source": [
    "geo = gpd.read_parquet(\n",
    "    get_project_root() / \"output/EWgeo.pkl\",\n",
    ")"
   ]
  },
  {
   "cell_type": "code",
   "execution_count": null,
   "metadata": {},
   "outputs": [],
   "source": [
    "geo"
   ]
  },
  {
   "cell_type": "code",
   "execution_count": null,
   "metadata": {},
   "outputs": [],
   "source": [
    "geo_json = geo[[\"EER13NM\", \"geometry\"]]\n",
    "geo_json.set_index(\"EER13NM\", inplace=True)\n",
    "geoj = geo_json.to_dict()"
   ]
  },
  {
   "cell_type": "code",
   "execution_count": null,
   "metadata": {},
   "outputs": [],
   "source": [
    "geo_json"
   ]
  },
  {
   "cell_type": "code",
   "execution_count": null,
   "metadata": {},
   "outputs": [],
   "source": [
    "geoj"
   ]
  },
  {
   "cell_type": "code",
   "execution_count": null,
   "metadata": {},
   "outputs": [],
   "source": [
    "geo = geo.set_crs(\"EPSG:27700\")"
   ]
  },
  {
   "cell_type": "code",
   "execution_count": null,
   "metadata": {},
   "outputs": [],
   "source": [
    "weekly_reg"
   ]
  },
  {
   "cell_type": "code",
   "execution_count": null,
   "metadata": {},
   "outputs": [],
   "source": [
    "weekly_reg_long = weekly_reg.melt(\n",
    "    id_vars=\"Week ended\",\n",
    "    value_vars=[col for col in weekly_reg.columns if col not in [\"Week ended\"]]\n",
    ")"
   ]
  },
  {
   "cell_type": "code",
   "execution_count": null,
   "metadata": {},
   "outputs": [],
   "source": [
    "weekly_reg_long.head()"
   ]
  },
  {
   "cell_type": "code",
   "execution_count": null,
   "metadata": {},
   "outputs": [],
   "source": [
    "geoj"
   ]
  },
  {
   "cell_type": "code",
   "execution_count": null,
   "metadata": {},
   "outputs": [],
   "source": [
    "test = weekly_reg_long[weekly_reg_long[\"variable\"] == \"West Midlands\"]"
   ]
  },
  {
   "cell_type": "code",
   "execution_count": null,
   "metadata": {},
   "outputs": [],
   "source": [
    "geo_json.crs"
   ]
  },
  {
   "cell_type": "code",
   "execution_count": null,
   "metadata": {},
   "outputs": [],
   "source": [
    "geo_json[\"geometry\"][\"West Midlands\"]"
   ]
  },
  {
   "cell_type": "code",
   "execution_count": null,
   "metadata": {},
   "outputs": [],
   "source": [
    "# weekly_reg_long.sort_values(\"Week ended\").reset_index().loc[0:50]"
   ]
  },
  {
   "cell_type": "code",
   "execution_count": null,
   "metadata": {},
   "outputs": [],
   "source": [
    "weekly_reg_long_test = weekly_reg_long.sort_values(\"Week ended\").reset_index().loc[100:300]"
   ]
  },
  {
   "cell_type": "code",
   "execution_count": null,
   "metadata": {},
   "outputs": [],
   "source": [
    "fig = px.choropleth(\n",
    "    weekly_reg_long_test,\n",
    "    geojson=geo_json[\"geometry\"],\n",
    "    locations=weekly_reg_long_test.variable,\n",
    "    # center={\"lat\": 55.09621, \"lon\": -4.0286298},\n",
    "    # scope=\"europe\",\n",
    "    color=weekly_reg_long_test.value,\n",
    "    animation_frame=\"Week ended\",\n",
    "    color_continuous_scale=\"reds\",\n",
    "    range_color=(weekly_reg_long_test.value.min(), weekly_reg_long_test.value.max())\n",
    "    # zmin=weekly_reg_long_test.value.min(),\n",
    "    # zmax=weekly_reg_long_test.value.max()\n",
    ")\n",
    "\n",
    "fig.update_geos(\n",
    "    fitbounds=\"geojson\",\n",
    "    visible=False\n",
    ")\n",
    "\n",
    "# fig.show()"
   ]
  },
  {
   "cell_type": "code",
   "execution_count": null,
   "metadata": {},
   "outputs": [],
   "source": [
    "fig.write_html(\n",
    "    get_project_root() / \"output/chroro_slider.html\"\n",
    ")"
   ]
  },
  {
   "cell_type": "code",
   "execution_count": null,
   "metadata": {},
   "outputs": [],
   "source": []
  }
 ],
 "metadata": {
  "kernelspec": {
   "display_name": "covis-AUuIUVGj-py3.10",
   "language": "python",
   "name": "python3"
  },
  "language_info": {
   "codemirror_mode": {
    "name": "ipython",
    "version": 3
   },
   "file_extension": ".py",
   "mimetype": "text/x-python",
   "name": "python",
   "nbconvert_exporter": "python",
   "pygments_lexer": "ipython3",
   "version": "3.10.9"
  }
 },
 "nbformat": 4,
 "nbformat_minor": 2
}
