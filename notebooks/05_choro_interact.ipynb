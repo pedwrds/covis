{
 "cells": [
  {
   "cell_type": "code",
   "execution_count": null,
   "metadata": {},
   "outputs": [],
   "source": [
    "import json\n",
    "import pandas as pd\n",
    "import geopandas as gpd\n",
    "\n",
    "import plotly.express as px\n",
    "\n",
    "from covis.utils import get_project_root"
   ]
  },
  {
   "attachments": {},
   "cell_type": "markdown",
   "metadata": {},
   "source": [
    "# regional choropleth with date slider "
   ]
  },
  {
   "attachments": {},
   "cell_type": "markdown",
   "metadata": {},
   "source": [
    "#### read in data for regional covid-19 deaths"
   ]
  },
  {
   "cell_type": "code",
   "execution_count": null,
   "metadata": {},
   "outputs": [],
   "source": [
    "weekly_reg_cov = pd.read_csv(\n",
    "    get_project_root() / \"output/covid19_weekly_regional_deaths_2020-2022.csv\",\n",
    "    index_col=0\n",
    ")"
   ]
  },
  {
   "cell_type": "code",
   "execution_count": null,
   "metadata": {},
   "outputs": [],
   "source": [
    "print(weekly_reg_cov.shape)\n",
    "weekly_reg_cov.head()"
   ]
  },
  {
   "attachments": {},
   "cell_type": "markdown",
   "metadata": {},
   "source": [
    "#### read in data for regional total deaths"
   ]
  },
  {
   "cell_type": "code",
   "execution_count": null,
   "metadata": {},
   "outputs": [],
   "source": [
    "weekly_reg_tot = pd.read_csv(\n",
    "    get_project_root() / \"output/total_weekly_regional_deaths_2020-2022.csv\",\n",
    "    index_col=0\n",
    ")"
   ]
  },
  {
   "cell_type": "code",
   "execution_count": null,
   "metadata": {},
   "outputs": [],
   "source": [
    "print(weekly_reg_tot.shape)\n",
    "weekly_reg_tot.head()"
   ]
  },
  {
   "attachments": {},
   "cell_type": "markdown",
   "metadata": {},
   "source": [
    "#### regional geojsons to gdf"
   ]
  },
  {
   "cell_type": "code",
   "execution_count": null,
   "metadata": {},
   "outputs": [],
   "source": [
    "# # map regions:\n",
    "# jpath = get_project_root() / \"output/eer_dict.json\"\n",
    "# with open(jpath) as f:\n",
    "#     eer = json.load(f)\n",
    "\n",
    "# eer"
   ]
  },
  {
   "cell_type": "code",
   "execution_count": null,
   "metadata": {},
   "outputs": [],
   "source": [
    "geo = gpd.read_parquet(\n",
    "    get_project_root() / \"output/EWgeo.pkl\",\n",
    ")"
   ]
  },
  {
   "cell_type": "code",
   "execution_count": null,
   "metadata": {},
   "outputs": [],
   "source": [
    "geo"
   ]
  },
  {
   "cell_type": "code",
   "execution_count": null,
   "metadata": {},
   "outputs": [],
   "source": [
    "geo = geo[[\"EER13NM\", \"geometry\"]]\n",
    "geo.set_index(\"EER13NM\", inplace=True)"
   ]
  },
  {
   "cell_type": "code",
   "execution_count": null,
   "metadata": {},
   "outputs": [],
   "source": [
    "geo"
   ]
  },
  {
   "cell_type": "code",
   "execution_count": null,
   "metadata": {},
   "outputs": [],
   "source": [
    "geo = geo.set_crs(\"EPSG:27700\")"
   ]
  },
  {
   "cell_type": "code",
   "execution_count": null,
   "metadata": {},
   "outputs": [],
   "source": [
    "geo.crs"
   ]
  },
  {
   "cell_type": "code",
   "execution_count": null,
   "metadata": {},
   "outputs": [],
   "source": [
    "weekly_reg_cov.reset_index(inplace=True)\n",
    "weekly_reg_cov.rename(columns={\"index\":\"week\"}, inplace=True)"
   ]
  },
  {
   "cell_type": "code",
   "execution_count": null,
   "metadata": {},
   "outputs": [],
   "source": [
    "weekly_reg_cov.head()"
   ]
  },
  {
   "cell_type": "code",
   "execution_count": null,
   "metadata": {},
   "outputs": [],
   "source": [
    "weekly_reg_tot.reset_index(inplace=True)\n",
    "weekly_reg_tot.rename(columns={\"index\":\"week\"}, inplace=True)"
   ]
  },
  {
   "cell_type": "code",
   "execution_count": null,
   "metadata": {},
   "outputs": [],
   "source": [
    "weekly_reg_tot.head()"
   ]
  },
  {
   "attachments": {},
   "cell_type": "markdown",
   "metadata": {},
   "source": [
    "#### check same index and date markers before merge"
   ]
  },
  {
   "cell_type": "code",
   "execution_count": null,
   "metadata": {},
   "outputs": [],
   "source": [
    "weekly_reg_cov.index.equals(weekly_reg_tot.index)"
   ]
  },
  {
   "cell_type": "code",
   "execution_count": null,
   "metadata": {},
   "outputs": [],
   "source": [
    "weekly_reg_cov[\"Week ended\"].equals(weekly_reg_tot[\"Week ended\"])"
   ]
  },
  {
   "cell_type": "code",
   "execution_count": null,
   "metadata": {},
   "outputs": [],
   "source": [
    "# weekly_reg_cov.merge(\n",
    "#     weekly_reg_tot[[col for col in weekly_reg_tot.columns if col not in [\"week\"]]],\n",
    "#     left_on=\"Week ended\",\n",
    "#     right_on=\"Week ended\",\n",
    "#     suffixes=[\" covid19\",\" total\"]\n",
    "# )"
   ]
  },
  {
   "attachments": {},
   "cell_type": "markdown",
   "metadata": {},
   "source": [
    "#### melt to long form"
   ]
  },
  {
   "cell_type": "code",
   "execution_count": null,
   "metadata": {},
   "outputs": [],
   "source": [
    "weekly_reg_long_cov = weekly_reg_cov.melt(\n",
    "    id_vars=\"Week ended\",\n",
    "    value_vars=[col for col in weekly_reg_cov.columns if col not in [\"Week ended\", \"week\"]],\n",
    "    var_name=\"region\",\n",
    "    value_name=\"covid19 deaths\"\n",
    ")"
   ]
  },
  {
   "cell_type": "code",
   "execution_count": null,
   "metadata": {},
   "outputs": [],
   "source": [
    "weekly_reg_long_cov.head()"
   ]
  },
  {
   "cell_type": "code",
   "execution_count": null,
   "metadata": {},
   "outputs": [],
   "source": [
    "weekly_reg_long_tot = weekly_reg_tot.melt(\n",
    "    id_vars=\"Week ended\",\n",
    "    value_vars=[col for col in weekly_reg_cov.columns if col not in [\"Week ended\", \"week\"]],\n",
    "    var_name=\"region\",\n",
    "    value_name=\"total deaths\"\n",
    ")"
   ]
  },
  {
   "cell_type": "code",
   "execution_count": null,
   "metadata": {},
   "outputs": [],
   "source": [
    "weekly_reg_long_tot.head()"
   ]
  },
  {
   "cell_type": "code",
   "execution_count": null,
   "metadata": {},
   "outputs": [],
   "source": [
    "weekly_reg_long = pd.merge(\n",
    "    weekly_reg_long_cov,\n",
    "    weekly_reg_long_tot,\n",
    "    how=\"inner\",\n",
    "    left_on=[\"Week ended\", \"region\"],\n",
    "    right_on=[\"Week ended\", \"region\"]\n",
    ")"
   ]
  },
  {
   "cell_type": "code",
   "execution_count": null,
   "metadata": {},
   "outputs": [],
   "source": [
    "len(weekly_reg_long) == len(weekly_reg_long_cov) == len(weekly_reg_long_tot)"
   ]
  },
  {
   "cell_type": "code",
   "execution_count": null,
   "metadata": {},
   "outputs": [],
   "source": [
    "weekly_reg_long[\"pc deaths due to covid19\"] = weekly_reg_long[\"covid19 deaths\"] / weekly_reg_long[\"total deaths\"]"
   ]
  },
  {
   "cell_type": "code",
   "execution_count": null,
   "metadata": {},
   "outputs": [],
   "source": [
    "print(weekly_reg_long.shape)\n",
    "weekly_reg_long.head()"
   ]
  },
  {
   "cell_type": "code",
   "execution_count": null,
   "metadata": {},
   "outputs": [],
   "source": [
    "# weekly_reg_long.to_csv(\n",
    "#     get_project_root() / \"output/long_form_regional_weekly_deaths.csv\"\n",
    "# )"
   ]
  },
  {
   "cell_type": "code",
   "execution_count": null,
   "metadata": {},
   "outputs": [],
   "source": [
    "weekly_reg_long_test = weekly_reg_long.sort_values(\"Week ended\").reset_index().loc[100:300]"
   ]
  },
  {
   "cell_type": "code",
   "execution_count": null,
   "metadata": {},
   "outputs": [],
   "source": [
    "fig = px.choropleth(\n",
    "    weekly_reg_long_test,\n",
    "    geojson=geo[\"geometry\"],\n",
    "    locations=weekly_reg_long_test[\"region\"],\n",
    "    color=weekly_reg_long_test[\"pc deaths due to covid19\"],\n",
    "    animation_frame=\"Week ended\",\n",
    "    color_continuous_scale=\"reds\",\n",
    "    range_color=(weekly_reg_long_test[\"pc deaths due to covid19\"].min(), weekly_reg_long_test[\"pc deaths due to covid19\"].max()),\n",
    "    hover_name=\"region\",\n",
    "    hover_data=[\"pc deaths due to covid19\", \"covid19 deaths\", \"total deaths\"]\n",
    ")\n",
    "\n",
    "fig.update_geos(\n",
    "    fitbounds=\"geojson\",\n",
    "    visible=False\n",
    ")"
   ]
  },
  {
   "cell_type": "code",
   "execution_count": null,
   "metadata": {},
   "outputs": [],
   "source": [
    "# fig.write_html(\n",
    "#     get_project_root() / \"output/choro_slider_test.html\"\n",
    "# )\n",
    "\n",
    "# fig.write_html(\n",
    "#     get_project_root() / \"lfs/choro_slider_test.html\"\n",
    "# )"
   ]
  },
  {
   "attachments": {},
   "cell_type": "markdown",
   "metadata": {},
   "source": [
    "* these functions will be moved into a script to produce the choropleth for the full date range"
   ]
  }
 ],
 "metadata": {
  "kernelspec": {
   "display_name": "covis-AUuIUVGj-py3.10",
   "language": "python",
   "name": "python3"
  },
  "language_info": {
   "codemirror_mode": {
    "name": "ipython",
    "version": 3
   },
   "file_extension": ".py",
   "mimetype": "text/x-python",
   "name": "python",
   "nbconvert_exporter": "python",
   "pygments_lexer": "ipython3",
   "version": "3.10.9"
  }
 },
 "nbformat": 4,
 "nbformat_minor": 2
}
