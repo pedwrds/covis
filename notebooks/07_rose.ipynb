{
 "cells": [
  {
   "cell_type": "code",
   "execution_count": null,
   "metadata": {},
   "outputs": [],
   "source": [
    "import pandas as pd\n",
    "import matplotlib.pyplot as plt\n",
    "import seaborn as sns\n",
    "import plotly.graph_objects as go\n",
    "\n",
    "import calendar\n",
    "from covis.utils import get_project_root\n",
    "\n",
    "sns.set_style(\"whitegrid\")\n",
    "sns.set_palette(\"tab20\")"
   ]
  },
  {
   "attachments": {},
   "cell_type": "markdown",
   "metadata": {},
   "source": [
    "# rose plot for monthly deaths by cause, 2021"
   ]
  },
  {
   "cell_type": "code",
   "execution_count": null,
   "metadata": {},
   "outputs": [],
   "source": [
    "rows = [6,10,14,18]\n",
    "# rows.extend(range(82,92))\n",
    "\n",
    "weekly_cause = pd.read_excel(\n",
    "    get_project_root() / \"data/publishedweek522021.xlsx\",\n",
    "    sheet_name=\"Weekly figures by cause\",\n",
    "    skiprows=lambda x: x not in rows\n",
    ")\n",
    "\n",
    "weekly_cause = weekly_cause.set_index(\"Week ended\").transpose()\n",
    "\n",
    "for col in weekly_cause.columns:\n",
    "    weekly_cause.rename(columns={col:col.replace(\"Deaths involving \", \"\").replace(\" (any mention on the death certificate)\", \"\")}, inplace=True)\n",
    "\n",
    "# print(f\"total deaths 2021\\n{weekly_cause.shape}\")\n",
    "weekly_cause.head()"
   ]
  },
  {
   "cell_type": "code",
   "execution_count": null,
   "metadata": {},
   "outputs": [],
   "source": [
    "weekly_cause.index = pd.to_datetime(weekly_cause.index)"
   ]
  },
  {
   "cell_type": "code",
   "execution_count": null,
   "metadata": {},
   "outputs": [],
   "source": [
    "weekly_cause.groupby(by=weekly_cause.index.month).sum()"
   ]
  },
  {
   "cell_type": "code",
   "execution_count": null,
   "metadata": {},
   "outputs": [],
   "source": [
    "monthly_cause = weekly_cause.groupby(pd.Grouper(freq=\"M\")).sum()"
   ]
  },
  {
   "cell_type": "code",
   "execution_count": null,
   "metadata": {},
   "outputs": [],
   "source": [
    "months = {mon:calendar.month_name[mon.month] for mon in monthly_cause.index}\n",
    "monthly_cause.rename(index=months, inplace=True)\n",
    "\n",
    "monthly_cause.rename_axis(\"\", axis=\"columns\", inplace=True)"
   ]
  },
  {
   "cell_type": "code",
   "execution_count": null,
   "metadata": {},
   "outputs": [],
   "source": [
    "monthly_cause"
   ]
  },
  {
   "cell_type": "code",
   "execution_count": null,
   "metadata": {},
   "outputs": [],
   "source": [
    "monthly_cause.plot(\n",
    "    kind=\"bar\",\n",
    "    stacked=True\n",
    ")"
   ]
  },
  {
   "cell_type": "code",
   "execution_count": null,
   "metadata": {},
   "outputs": [],
   "source": [
    "fig = go.Figure()\n",
    "\n",
    "fig.add_trace(go.Barpolar(\n",
    "    r = list(monthly_cause[\"respiratory disease\"]),\n",
    "    theta=list(monthly_cause.index),\n",
    "    name = \"respiratory disease\",\n",
    "    # marker_color=\"rgb(46,109,255)\",\n",
    "    marker_color=\"#869FB7\",\n",
    "    # marker_line_color=\"black\",\n",
    "    # hoverinfo = [\"all\"],\n",
    "    hovertemplate=\"deaths: %{r}\",\n",
    "    opacity=0.9  \n",
    "))\n",
    "\n",
    "\n",
    "fig.add_trace(go.Barpolar(\n",
    "    r = list(monthly_cause[\"influenza and pneumonia\"]),\n",
    "    theta=list(monthly_cause.index),\n",
    "    name = \"influenza and pneumonia\",\n",
    "    marker_color=\"#3D6BA6\",\n",
    "    # marker_line_color=\"black\",\n",
    "    # hoverinfo = [\"all\"],\n",
    "    hovertemplate=\"deaths: %{r}\",\n",
    "    opacity=0.9\n",
    "))\n",
    "\n",
    "fig.add_trace(go.Barpolar(    \n",
    "    r = list(monthly_cause[\"COVID-19\"]),\n",
    "    theta=list(monthly_cause.index),\n",
    "    name = \"COVID-19\",\n",
    "    marker_color=\"#5D635F\",\n",
    "    # marker_line_color=\"black\",\n",
    "    # hoverinfo = [\"all\"],\n",
    "    hovertemplate=\"deaths: %{r}\",\n",
    "    opacity=0.9\n",
    "))\n",
    "\n",
    "fig.update_layout(\n",
    "    title=\"2021 monthly deaths by selected cause\",\n",
    "    font_size=12,\n",
    "    legend_font_size=15,\n",
    "    polar_angularaxis_rotation=90,\n",
    "    width=700,\n",
    "    height=700,\n",
    "    legend_x=-0.1,\n",
    "    legend_y=-0.2,\n",
    "    polar = dict(\n",
    "        #   bgcolor = \"rgb(223, 223, 223)\",\n",
    "        bgcolor=\"white\",\n",
    "        angularaxis=dict(\n",
    "            linewidth = 0.1,\n",
    "            showline=False,\n",
    "            linecolor=\"grey\",\n",
    "        ),\n",
    "        radialaxis=dict(        \n",
    "            showline = False,\n",
    "            linewidth = 0.1,\n",
    "            gridcolor = \"grey\",\n",
    "            gridwidth = 0.1,\n",
    "        )\n",
    "    ),\n",
    ")\n",
    "\n",
    "fig.update_polars(\n",
    "    angularaxis_direction=\"clockwise\"\n",
    ")"
   ]
  },
  {
   "cell_type": "code",
   "execution_count": null,
   "metadata": {},
   "outputs": [],
   "source": [
    "# fig.write_image(\n",
    "#     get_project_root() / \"figures/rose_causes.png\"\n",
    "# )\n",
    "\n",
    "# fig.write_image(\n",
    "#     get_project_root() / \"figures/rose_causes.svg\"\n",
    "# )\n",
    "\n",
    "# fig.write_html(\n",
    "#     get_project_root() / \"output/rose_causes.html\"\n",
    "# )"
   ]
  }
 ],
 "metadata": {
  "kernelspec": {
   "display_name": "covis-AUuIUVGj-py3.10",
   "language": "python",
   "name": "python3"
  },
  "language_info": {
   "codemirror_mode": {
    "name": "ipython",
    "version": 3
   },
   "file_extension": ".py",
   "mimetype": "text/x-python",
   "name": "python",
   "nbconvert_exporter": "python",
   "pygments_lexer": "ipython3",
   "version": "3.10.9"
  }
 },
 "nbformat": 4,
 "nbformat_minor": 2
}
