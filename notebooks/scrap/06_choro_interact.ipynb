{
 "cells": [
  {
   "cell_type": "code",
   "execution_count": null,
   "metadata": {},
   "outputs": [],
   "source": [
    "import json\n",
    "import pandas as pd\n",
    "import geopandas as gpd\n",
    "import matplotlib.pyplot as plt\n",
    "import seaborn as sns\n",
    "\n",
    "from urllib.request import urlopen\n",
    "from covis.utils import get_project_root\n",
    "\n",
    "sns.set_style(\"whitegrid\")\n",
    "sns.set_palette(\"tab20\")"
   ]
  },
  {
   "cell_type": "code",
   "execution_count": null,
   "metadata": {},
   "outputs": [],
   "source": []
  },
  {
   "attachments": {},
   "cell_type": "markdown",
   "metadata": {},
   "source": [
    "## local authority districts UK-GeoJSON"
   ]
  },
  {
   "cell_type": "code",
   "execution_count": null,
   "metadata": {},
   "outputs": [],
   "source": [
    "eng_lad_html = urlopen(\"https://martinjc.github.io/UK-GeoJSON/json/eng/topo_lad.json\").read()\n",
    "eng_lad_geojson = json.loads(eng_lad_html)\n",
    "\n",
    "eng_lad_target = get_project_root() / \"output/eng_lad_geojson.json\"\n",
    "with open(eng_lad_target, \"w\") as f:\n",
    "    json.dump(eng_lad_geojson, f, indent=2)"
   ]
  },
  {
   "cell_type": "code",
   "execution_count": null,
   "metadata": {},
   "outputs": [],
   "source": [
    "eng_lad_target = get_project_root() / \"output/eng_lad_geojson.json\"\n",
    "\n",
    "eng_lad_gdf = gpd.read_file(\n",
    "    eng_lad_target,\n",
    "    GEOM_POSSIBLE_NAMES=\"geometry\",\n",
    ")"
   ]
  },
  {
   "cell_type": "code",
   "execution_count": null,
   "metadata": {},
   "outputs": [],
   "source": [
    "eng_lad_gdf.head()"
   ]
  },
  {
   "cell_type": "code",
   "execution_count": null,
   "metadata": {},
   "outputs": [],
   "source": [
    "print(f\"number of local area authorities in england: {len(eng_lad_gdf)}\")"
   ]
  },
  {
   "attachments": {},
   "cell_type": "markdown",
   "metadata": {},
   "source": []
  },
  {
   "cell_type": "code",
   "execution_count": null,
   "metadata": {},
   "outputs": [],
   "source": [
    "deaths_lt = pd.read_csv(\n",
    "    get_project_root() / \"data/(lowertier)ltla_2023-05-25.csv\"\n",
    ")"
   ]
  },
  {
   "cell_type": "code",
   "execution_count": null,
   "metadata": {},
   "outputs": [],
   "source": [
    "print(deaths_lt.shape)\n",
    "deaths_lt.head()"
   ]
  },
  {
   "cell_type": "code",
   "execution_count": null,
   "metadata": {},
   "outputs": [],
   "source": [
    "deaths_lt[\"date\"] = pd.to_datetime(deaths_lt[\"date\"])\n",
    "deaths_lt.drop(columns=\"areaType\", inplace=True)"
   ]
  },
  {
   "cell_type": "code",
   "execution_count": null,
   "metadata": {},
   "outputs": [],
   "source": [
    "deaths_lt.dtypes"
   ]
  },
  {
   "cell_type": "code",
   "execution_count": null,
   "metadata": {},
   "outputs": [],
   "source": [
    "deaths_lt[\"areaCode\"].nunique()"
   ]
  },
  {
   "cell_type": "code",
   "execution_count": null,
   "metadata": {},
   "outputs": [],
   "source": [
    "pd.merge(\n",
    "    eng_lad_gdf,\n",
    "    deaths_lt,\n",
    "    how=\"left\",\n",
    "    left_on=\"LAD13CD\",\n",
    "    right_on=\"areaCode\"\n",
    ")"
   ]
  },
  {
   "cell_type": "code",
   "execution_count": null,
   "metadata": {},
   "outputs": [],
   "source": []
  },
  {
   "cell_type": "code",
   "execution_count": null,
   "metadata": {},
   "outputs": [],
   "source": [
    "deaths_ut = pd.read_csv(\n",
    "    get_project_root() / \"data/(uppertier)utla_2023-05-25.csv\"\n",
    ")"
   ]
  },
  {
   "cell_type": "code",
   "execution_count": null,
   "metadata": {},
   "outputs": [],
   "source": [
    "print(deaths_ut.shape)\n",
    "deaths_ut.head()"
   ]
  },
  {
   "cell_type": "code",
   "execution_count": null,
   "metadata": {},
   "outputs": [],
   "source": [
    "deaths_ut[\"date\"] = pd.to_datetime(deaths_ut[\"date\"])\n",
    "deaths_ut.drop(columns=\"areaType\", inplace=True)"
   ]
  },
  {
   "cell_type": "code",
   "execution_count": null,
   "metadata": {},
   "outputs": [],
   "source": [
    "deaths_ut.dtypes"
   ]
  },
  {
   "cell_type": "code",
   "execution_count": null,
   "metadata": {},
   "outputs": [],
   "source": [
    "deaths_ut[\"areaCode\"].nunique()"
   ]
  },
  {
   "cell_type": "code",
   "execution_count": null,
   "metadata": {},
   "outputs": [],
   "source": [
    "pd.merge(\n",
    "    eng_lad_gdf,\n",
    "    deaths_ut,\n",
    "    how=\"left\",\n",
    "    left_on=\"LAD13CD\",\n",
    "    right_on=\"areaCode\"\n",
    ")"
   ]
  },
  {
   "attachments": {},
   "cell_type": "markdown",
   "metadata": {},
   "source": []
  }
 ],
 "metadata": {
  "kernelspec": {
   "display_name": "covis-AUuIUVGj-py3.10",
   "language": "python",
   "name": "python3"
  },
  "language_info": {
   "codemirror_mode": {
    "name": "ipython",
    "version": 3
   },
   "file_extension": ".py",
   "mimetype": "text/x-python",
   "name": "python",
   "nbconvert_exporter": "python",
   "pygments_lexer": "ipython3",
   "version": "3.10.9"
  }
 },
 "nbformat": 4,
 "nbformat_minor": 2
}
