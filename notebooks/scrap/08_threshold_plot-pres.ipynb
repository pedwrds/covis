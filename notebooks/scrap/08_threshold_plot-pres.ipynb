{
 "cells": [
  {
   "cell_type": "code",
   "execution_count": null,
   "metadata": {
    "slideshow": {
     "slide_type": "skip"
    }
   },
   "outputs": [],
   "source": [
    "import pandas as pd\n",
    "import matplotlib.pyplot as plt\n",
    "import seaborn as sns\n",
    "import ipywidgets as widgets\n",
    "from ipywidgets import interact, interactive, Layout, FloatSlider, HBox, VBox\n",
    "from ipywidgets.embed import embed_minimal_html, embed_data\n",
    "\n",
    "from covis.utils import get_project_root\n",
    "\n",
    "sns.set_style(\"white\")\n",
    "sns.set_palette(\"tab20\")"
   ]
  },
  {
   "cell_type": "markdown",
   "metadata": {
    "slideshow": {
     "slide_type": "skip"
    }
   },
   "source": [
    "# regional threshold plot for percentage of deaths due to COVID-19"
   ]
  },
  {
   "cell_type": "code",
   "execution_count": null,
   "metadata": {
    "slideshow": {
     "slide_type": "skip"
    }
   },
   "outputs": [],
   "source": [
    "long_reg = pd.read_csv(\n",
    "    get_project_root() / \"output/long_form_regional_weekly_deaths.csv\",\n",
    "    index_col=0\n",
    ")"
   ]
  },
  {
   "cell_type": "code",
   "execution_count": null,
   "metadata": {
    "slideshow": {
     "slide_type": "skip"
    }
   },
   "outputs": [],
   "source": [
    "print(long_reg.shape)\n",
    "long_reg.head()"
   ]
  },
  {
   "cell_type": "code",
   "execution_count": null,
   "metadata": {
    "slideshow": {
     "slide_type": "skip"
    }
   },
   "outputs": [],
   "source": [
    "long_reg[\"Week ended\"] = pd.to_datetime(long_reg[\"Week ended\"])\n",
    "long_reg.set_index(\"Week ended\", inplace=True)"
   ]
  },
  {
   "cell_type": "code",
   "execution_count": null,
   "metadata": {
    "slideshow": {
     "slide_type": "skip"
    }
   },
   "outputs": [],
   "source": [
    "long_reg = long_reg.loc[\"2020/03/01 00:00:00\":\"2021/07/01 23:59:59\"]"
   ]
  },
  {
   "cell_type": "code",
   "execution_count": null,
   "metadata": {
    "slideshow": {
     "slide_type": "skip"
    }
   },
   "outputs": [],
   "source": [
    "long_reg[\"above thresh\"] = long_reg[\"pc deaths due to covid19\"].apply(lambda x: 1 if x>0.04 else 0)"
   ]
  },
  {
   "cell_type": "code",
   "execution_count": null,
   "metadata": {
    "slideshow": {
     "slide_type": "skip"
    }
   },
   "outputs": [],
   "source": [
    "long_reg.head(50)"
   ]
  },
  {
   "cell_type": "code",
   "execution_count": null,
   "metadata": {
    "slideshow": {
     "slide_type": "skip"
    }
   },
   "outputs": [],
   "source": [
    "fig = plt.figure(figsize=(13,5))\n",
    "ax = fig.add_subplot(111)\n",
    "\n",
    "sns.stripplot(\n",
    "    data=long_reg,\n",
    "    x=\"Week ended\",\n",
    "    y=\"region\",\n",
    "    jitter=False,\n",
    "    hue=\"above thresh\",\n",
    "    legend=False,\n",
    "    orient=\"h\",\n",
    "    ax=ax\n",
    ")\n",
    "\n",
    "ax.set_ylabel(\"\")\n",
    "fig.tight_layout();"
   ]
  },
  {
   "cell_type": "code",
   "execution_count": null,
   "metadata": {
    "slideshow": {
     "slide_type": "skip"
    }
   },
   "outputs": [],
   "source": [
    "def t_plot(thresh):\n",
    "\n",
    "    long_reg[\"above thresh\"] = long_reg[\"pc deaths due to covid19\"].apply(lambda x: 1 if x>=thresh else 0)\n",
    "\n",
    "    fig = plt.figure(figsize=(13,5))\n",
    "    ax = fig.add_subplot(111)\n",
    "\n",
    "    ax = sns.stripplot(\n",
    "        data=long_reg,\n",
    "        x=\"Week ended\",\n",
    "        y=\"region\",\n",
    "        jitter=False,\n",
    "        hue=\"above thresh\",\n",
    "        palette=[\"lightgrey\", \"tab:red\"],\n",
    "        orient=\"h\",\n",
    "        ax=ax\n",
    "    )\n",
    "\n",
    "    ax.set_ylabel(\"\")\n",
    "    ax.set_xlabel(\"\")\n",
    "\n",
    "    legend_handles, _= ax.get_legend_handles_labels()\n",
    "    ax.legend(\n",
    "        legend_handles,\n",
    "        [\n",
    "            f\"weeks with percentage of deaths due to COVID19 below {thresh:.2f}%\",\n",
    "            f\"weeks with percentage of deaths due to COVID19 above {thresh:.2f}%\"\n",
    "            ],\n",
    "        loc=\"lower center\",\n",
    "        ncols=2,\n",
    "        bbox_to_anchor=(0.5,-0.2)\n",
    "    )\n",
    "\n",
    "    fig.suptitle(f\"weekly percentage of deaths due to COVID19 > {thresh:.2f}%\")\n",
    "    fig.tight_layout();"
   ]
  },
  {
   "cell_type": "code",
   "execution_count": null,
   "metadata": {
    "slideshow": {
     "slide_type": "skip"
    }
   },
   "outputs": [],
   "source": [
    "# t_plot(0.3)"
   ]
  },
  {
   "cell_type": "code",
   "execution_count": null,
   "metadata": {},
   "outputs": [],
   "source": [
    "style = {\"description_width\": \"initial\"}\n",
    "slider_opts = Layout(\n",
    "    width=\"100%\",\n",
    "    position=\"\"\n",
    ")\n",
    "t_fig = interactive(\n",
    "    t_plot,\n",
    "    thresh=FloatSlider(\n",
    "        min=long_reg[\"pc deaths due to covid19\"].min(),\n",
    "        max=long_reg[\"pc deaths due to covid19\"].max(),\n",
    "        step=1e-2,\n",
    "        value=0.25,\n",
    "        layout=slider_opts,\n",
    "        description=\"percentage of deaths due to COVID-19\",\n",
    "        style=style\n",
    "    )\n",
    ")\n",
    "\n",
    "# arranging widget position\n",
    "# https://stackoverflow.com/questions/52980565/arranging-widgets-in-ipywidgets-interactive/53048425#53048425?newreg=b506e493e9584daf84eb7939c302c949\n",
    "controls = HBox(t_fig.children[:-1], layout = Layout(flex_flow='row wrap'))\n",
    "output = t_fig.children[-1]\n",
    "display(VBox([output, controls]))"
   ]
  },
  {
   "cell_type": "code",
   "execution_count": null,
   "metadata": {
    "slideshow": {
     "slide_type": "skip"
    }
   },
   "outputs": [],
   "source": [
    "def t_interactive():\n",
    "    style = {\"description_width\": \"initial\"}\n",
    "    slider_opts = Layout(\n",
    "        width=\"100%\",\n",
    "        position=\"\"\n",
    "    )\n",
    "    t_fig = interactive(\n",
    "        t_plot,\n",
    "        thresh=FloatSlider(\n",
    "            min=long_reg[\"pc deaths due to covid19\"].min(),\n",
    "            max=long_reg[\"pc deaths due to covid19\"].max(),\n",
    "            step=1e-2,\n",
    "            value=0.25,\n",
    "            layout=slider_opts,\n",
    "            description=\"percentage of deaths due to COVID-19\",\n",
    "            style=style\n",
    "        )\n",
    "    )\n",
    "\n",
    "    # arranging widget position\n",
    "    # https://stackoverflow.com/questions/52980565/arranging-widgets-in-ipywidgets-interactive/53048425#53048425?newreg=b506e493e9584daf84eb7939c302c949\n",
    "    controls = HBox(t_fig.children[:-1], layout = Layout(flex_flow='row wrap'))\n",
    "    output = t_fig.children[-1]\n",
    "    display(VBox([output, controls]))"
   ]
  },
  {
   "cell_type": "code",
   "execution_count": null,
   "metadata": {
    "slideshow": {
     "slide_type": "slide"
    }
   },
   "outputs": [],
   "source": [
    "t_interactive()"
   ]
  },
  {
   "cell_type": "code",
   "execution_count": null,
   "metadata": {
    "slideshow": {
     "slide_type": "skip"
    }
   },
   "outputs": [],
   "source": [
    "# target = get_project_root() / \"output/threshold_slider.html\"\n",
    "# embed_minimal_html(target, views=[t_fig], title=\"threshold slider\")"
   ]
  },
  {
   "cell_type": "code",
   "execution_count": null,
   "metadata": {
    "slideshow": {
     "slide_type": "skip"
    }
   },
   "outputs": [],
   "source": [
    "# target = get_project_root() / \"output/threshold_slider.html\"\n",
    "# with open(target, \"w\") as f:\n",
    "#     f.write(t_fig)"
   ]
  },
  {
   "cell_type": "code",
   "execution_count": null,
   "metadata": {
    "slideshow": {
     "slide_type": "skip"
    }
   },
   "outputs": [],
   "source": [
    "# slider = FloatSlider(value=40)\n",
    "# embed_minimal_html('../output/export.html', views=[slider], title='Widgets export')"
   ]
  },
  {
   "cell_type": "code",
   "execution_count": null,
   "metadata": {
    "slideshow": {
     "slide_type": "skip"
    }
   },
   "outputs": [],
   "source": [
    "# pwd"
   ]
  },
  {
   "cell_type": "code",
   "execution_count": null,
   "metadata": {
    "slideshow": {
     "slide_type": "skip"
    }
   },
   "outputs": [],
   "source": [
    "# !jupyter nbconvert --to slides \\08_threshold_plot-pres.ipynb"
   ]
  },
  {
   "cell_type": "code",
   "execution_count": null,
   "metadata": {},
   "outputs": [],
   "source": []
  }
 ],
 "metadata": {
  "kernelspec": {
   "display_name": "Python 3 (ipykernel)",
   "language": "python",
   "name": "python3"
  },
  "language_info": {
   "codemirror_mode": {
    "name": "ipython",
    "version": 3
   },
   "file_extension": ".py",
   "mimetype": "text/x-python",
   "name": "python",
   "nbconvert_exporter": "python",
   "pygments_lexer": "ipython3",
   "version": "3.10.9"
  }
 },
 "nbformat": 4,
 "nbformat_minor": 2
}
