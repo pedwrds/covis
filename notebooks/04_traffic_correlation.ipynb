{
 "cells": [
  {
   "cell_type": "code",
   "execution_count": null,
   "metadata": {},
   "outputs": [],
   "source": [
    "import json\n",
    "import numpy as np\n",
    "import pandas as pd\n",
    "import matplotlib.pyplot as plt\n",
    "import matplotlib.ticker as ticker\n",
    "import seaborn as sns\n",
    "\n",
    "import scipy.stats as stats\n",
    "import statsmodels.formula.api as sm\n",
    "\n",
    "from datetime import datetime\n",
    "from covis.utils import get_project_root\n",
    "\n",
    "pd.set_option(\"display.max_column\", None)\n",
    "sns.set_style(\"white\")\n",
    "sns.set_palette(\"tab20\")"
   ]
  },
  {
   "attachments": {},
   "cell_type": "markdown",
   "metadata": {},
   "source": [
    "# traffic movement"
   ]
  },
  {
   "cell_type": "code",
   "execution_count": null,
   "metadata": {},
   "outputs": [],
   "source": [
    "traffic = pd.read_excel(\n",
    "    get_project_root() / \"data/trafficcameraactivitydataset050523.xlsx\",\n",
    "    sheet_name=\"Non seasonally adjusted\",\n",
    "    index_col=0,\n",
    "    header=[0,1],\n",
    "    skiprows=[2]\n",
    ")"
   ]
  },
  {
   "cell_type": "code",
   "execution_count": null,
   "metadata": {},
   "outputs": [],
   "source": [
    "print(traffic.shape)\n",
    "traffic.head()"
   ]
  },
  {
   "cell_type": "code",
   "execution_count": null,
   "metadata": {},
   "outputs": [],
   "source": [
    "traffic.index = pd.to_datetime(traffic.index, format=\"%Y/%m/%d\")"
   ]
  },
  {
   "cell_type": "code",
   "execution_count": null,
   "metadata": {},
   "outputs": [],
   "source": [
    "traffic.loc[\"01/03/2020\":\"01/03/2021\"]"
   ]
  },
  {
   "attachments": {},
   "cell_type": "markdown",
   "metadata": {},
   "source": [
    "* from the included data only London and North East match to the geographical regions that we have covid19 related data"
   ]
  },
  {
   "cell_type": "code",
   "execution_count": null,
   "metadata": {},
   "outputs": [],
   "source": [
    "traffic = traffic[[\"London\", \"North East\"]]"
   ]
  },
  {
   "cell_type": "code",
   "execution_count": null,
   "metadata": {},
   "outputs": [],
   "source": [
    "# traffic.dtypes"
   ]
  },
  {
   "cell_type": "code",
   "execution_count": null,
   "metadata": {},
   "outputs": [],
   "source": [
    "for col in traffic.columns:\n",
    "    traffic[col] = pd.to_numeric(traffic[col], errors=\"coerce\")"
   ]
  },
  {
   "cell_type": "code",
   "execution_count": null,
   "metadata": {},
   "outputs": [],
   "source": [
    "# no idea why i have to use the month first date format here!\n",
    "traffic.loc[\"03/01/2020\":\"03/01/2021\"][\"London\"].plot();"
   ]
  },
  {
   "cell_type": "code",
   "execution_count": null,
   "metadata": {},
   "outputs": [],
   "source": [
    "traffic = traffic.groupby(level=0, axis=1).sum()"
   ]
  },
  {
   "cell_type": "code",
   "execution_count": null,
   "metadata": {},
   "outputs": [],
   "source": [
    "traffic[\"London\"].plot();"
   ]
  },
  {
   "cell_type": "code",
   "execution_count": null,
   "metadata": {},
   "outputs": [],
   "source": [
    "traffic[traffic[\"London\"] == 0]"
   ]
  },
  {
   "cell_type": "code",
   "execution_count": null,
   "metadata": {},
   "outputs": [],
   "source": [
    "traffic[\"London\"].replace(0, np.NaN).plot();"
   ]
  },
  {
   "cell_type": "code",
   "execution_count": null,
   "metadata": {},
   "outputs": [],
   "source": [
    "deaths = pd.read_csv(\n",
    "    get_project_root() / \"output/covid19_weekly_regional_deaths_2020-2022.csv\",\n",
    "    index_col=0\n",
    ")"
   ]
  },
  {
   "cell_type": "code",
   "execution_count": null,
   "metadata": {},
   "outputs": [],
   "source": [
    "# deaths"
   ]
  },
  {
   "cell_type": "code",
   "execution_count": null,
   "metadata": {},
   "outputs": [],
   "source": [
    "# deaths.dtypes"
   ]
  },
  {
   "cell_type": "code",
   "execution_count": null,
   "metadata": {},
   "outputs": [],
   "source": [
    "deaths[\"Week ended\"] = pd.to_datetime(deaths[\"Week ended\"], format=\"%Y/%m/%d\")"
   ]
  },
  {
   "cell_type": "code",
   "execution_count": null,
   "metadata": {},
   "outputs": [],
   "source": [
    "deaths.set_index(\"Week ended\", inplace=True)"
   ]
  },
  {
   "cell_type": "code",
   "execution_count": null,
   "metadata": {},
   "outputs": [],
   "source": [
    "deaths.index"
   ]
  },
  {
   "cell_type": "code",
   "execution_count": null,
   "metadata": {},
   "outputs": [],
   "source": [
    "deaths.loc[\"03/01/2020\":\"03/01/2021\"]"
   ]
  },
  {
   "cell_type": "code",
   "execution_count": null,
   "metadata": {},
   "outputs": [],
   "source": [
    "deaths = deaths[[\"London\", \"North East\"]]"
   ]
  },
  {
   "cell_type": "code",
   "execution_count": null,
   "metadata": {},
   "outputs": [],
   "source": [
    "sns.set_style(\"whitegrid\")\n",
    "\n",
    "fig = plt.figure(figsize=(9,5))\n",
    "ax1 = fig.add_subplot(111)\n",
    "ax2 = ax1.twinx()\n",
    "\n",
    "ax1.set_ylim(0,500000)\n",
    "ax2.set_ylim(0,2000)\n",
    "for ax in [ax1, ax2]:\n",
    "    ax.yaxis.set_major_locator(ticker.LinearLocator(6))\n",
    "\n",
    "\n",
    "traffic[\"London\"].loc[\"03/01/2020\":\"03/01/2021\"].plot(\n",
    "    ax = ax1,\n",
    "    color=\"#4e7496\",\n",
    "    label=\"traffic movement (all modes)\",\n",
    "    lw=0.5\n",
    ")\n",
    "\n",
    "# remove grid to not draw over ax1:\n",
    "sns.set_style(\"white\")\n",
    "deaths[\"London\"].loc[\"03/01/2020\":\"03/01/2021\"].plot(\n",
    "    ax = ax2,\n",
    "    color=\"#1b2431\",\n",
    "    # color=\"#a2653e\",\n",
    "    label=\"deaths due to covid\",\n",
    ")\n",
    "\n",
    "ax1.set_ylabel(\"daily number of traffic movements recorded\")\n",
    "ax2.set_ylabel(\"weekly covid19 deaths\")\n",
    "\n",
    "fig.suptitle(\"London traffic movement and covid-19 deaths, Mar 2020 - Mar 2021\")\n",
    "fig.legend(loc=\"lower center\", bbox_to_anchor=(0.5,-0.2), bbox_transform=ax1.transAxes, ncols=2)\n",
    "fig.tight_layout();"
   ]
  },
  {
   "cell_type": "code",
   "execution_count": null,
   "metadata": {},
   "outputs": [],
   "source": [
    "# fig.savefig(\n",
    "#     get_project_root() / \"figures/traffic_deaths_time.png\",\n",
    "#     bbox_inches='tight'\n",
    "# )"
   ]
  },
  {
   "cell_type": "code",
   "execution_count": null,
   "metadata": {},
   "outputs": [],
   "source": [
    "traffic_lon_mar_mar = traffic[\"London\"].loc[\"03/01/2020\":\"03/01/2021\"]\n",
    "deaths_lon_mar_mar = deaths[\"London\"].loc[\"03/01/2020\":\"03/01/2021\"]"
   ]
  },
  {
   "cell_type": "code",
   "execution_count": null,
   "metadata": {},
   "outputs": [],
   "source": [
    "traffic_lon_mar_mar.index"
   ]
  },
  {
   "cell_type": "code",
   "execution_count": null,
   "metadata": {},
   "outputs": [],
   "source": [
    "deaths_lon_mar_mar.index"
   ]
  },
  {
   "cell_type": "code",
   "execution_count": null,
   "metadata": {},
   "outputs": [],
   "source": [
    "traffic_lon_mar_mar = pd.DataFrame(traffic_lon_mar_mar.resample(\"W-FRI\").sum())"
   ]
  },
  {
   "cell_type": "code",
   "execution_count": null,
   "metadata": {},
   "outputs": [],
   "source": [
    "deaths_lon_mar_mar = pd.DataFrame(deaths_lon_mar_mar.resample(\"W-FRI\").sum())"
   ]
  },
  {
   "cell_type": "code",
   "execution_count": null,
   "metadata": {},
   "outputs": [],
   "source": [
    "traffic_lon_mar_mar"
   ]
  },
  {
   "cell_type": "code",
   "execution_count": null,
   "metadata": {},
   "outputs": [],
   "source": [
    "lon_traf_deaths = traffic_lon_mar_mar.merge(\n",
    "    deaths_lon_mar_mar,\n",
    "    left_index=True,\n",
    "    right_index=True,\n",
    "    suffixes=[\"_weekly_traffic\", \"_weekly_deaths\"]\n",
    ")"
   ]
  },
  {
   "cell_type": "code",
   "execution_count": null,
   "metadata": {},
   "outputs": [],
   "source": [
    "lon_traf_deaths.describe()"
   ]
  },
  {
   "attachments": {},
   "cell_type": "markdown",
   "metadata": {},
   "source": [
    "## investigate for linear relationship"
   ]
  },
  {
   "cell_type": "code",
   "execution_count": null,
   "metadata": {},
   "outputs": [],
   "source": [
    "sns.set_style(\"whitegrid\")\n",
    "# fig = plt.figure()\n",
    "# ax = fig.add_subplot(111)\n",
    "\n",
    "fig = sns.jointplot(\n",
    "    data=lon_traf_deaths[lon_traf_deaths!=0].dropna(),\n",
    "    kind=\"scatter\",\n",
    "    x=\"London_weekly_traffic\",\n",
    "    y=\"London_weekly_deaths\",\n",
    "    # kind=\"reg\"\n",
    "    # ax=ax\n",
    ")\n",
    "\n",
    "fig.set_axis_labels(\"weekly traffic\", \"weekly covid19 deaths\")\n",
    "fig.fig.suptitle(\"London weekly traffic and weekly covid deaths\", y=1.05);"
   ]
  },
  {
   "cell_type": "code",
   "execution_count": null,
   "metadata": {},
   "outputs": [],
   "source": [
    "# fig.savefig(\n",
    "#     get_project_root() / \"figures/traffic_deaths_jointplot_scatter.png\"\n",
    "# )"
   ]
  },
  {
   "cell_type": "code",
   "execution_count": null,
   "metadata": {},
   "outputs": [],
   "source": [
    "sns.set_style(\"whitegrid\")\n",
    "# fig = plt.figure()\n",
    "# ax = fig.add_subplot(111)\n",
    "\n",
    "fig = sns.jointplot(\n",
    "    data=lon_traf_deaths[lon_traf_deaths!=0].dropna(),\n",
    "    # kind=\"scatter\",\n",
    "    x=\"London_weekly_traffic\",\n",
    "    y=\"London_weekly_deaths\",\n",
    "    kind=\"reg\"\n",
    "    # ax=ax\n",
    ")\n",
    "\n",
    "fig.set_axis_labels(\"weekly traffic\", \"weekly covid19 deaths\")\n",
    "fig.fig.suptitle(\"London weekly traffic and weekly covid deaths\", y=1.05);"
   ]
  },
  {
   "cell_type": "code",
   "execution_count": null,
   "metadata": {},
   "outputs": [],
   "source": [
    "# fig.savefig(\n",
    "#     get_project_root() / \"figures/traffic_deaths_jointplot_reg.png\"\n",
    "# )"
   ]
  },
  {
   "attachments": {},
   "cell_type": "markdown",
   "metadata": {},
   "source": [
    "### pearson correlation"
   ]
  },
  {
   "cell_type": "code",
   "execution_count": null,
   "metadata": {},
   "outputs": [],
   "source": [
    "stats.pearsonr(lon_traf_deaths[\"London_weekly_traffic\"], lon_traf_deaths[\"London_weekly_deaths\"])"
   ]
  },
  {
   "attachments": {},
   "cell_type": "markdown",
   "metadata": {},
   "source": [
    "### singnificance of the linear relationship"
   ]
  },
  {
   "cell_type": "code",
   "execution_count": null,
   "metadata": {},
   "outputs": [],
   "source": [
    "feats = lon_traf_deaths[[\"London_weekly_traffic\", \"London_weekly_deaths\"]].copy()\n",
    "feats.sort_values(\"London_weekly_traffic\", inplace=True)"
   ]
  },
  {
   "cell_type": "code",
   "execution_count": null,
   "metadata": {},
   "outputs": [],
   "source": [
    "linear_model = sm.ols('London_weekly_deaths~London_weekly_traffic', feats).fit()\n",
    "print(linear_model.summary(alpha=0.05))"
   ]
  },
  {
   "cell_type": "code",
   "execution_count": null,
   "metadata": {},
   "outputs": [],
   "source": [
    "print(linear_model.summary().as_latex())"
   ]
  },
  {
   "cell_type": "code",
   "execution_count": null,
   "metadata": {},
   "outputs": [],
   "source": [
    "for table in linear_model.summary().tables:\n",
    "    print(table.as_latex_tabular())"
   ]
  },
  {
   "cell_type": "code",
   "execution_count": null,
   "metadata": {},
   "outputs": [],
   "source": []
  }
 ],
 "metadata": {
  "kernelspec": {
   "display_name": "covis-AUuIUVGj-py3.10",
   "language": "python",
   "name": "python3"
  },
  "language_info": {
   "codemirror_mode": {
    "name": "ipython",
    "version": 3
   },
   "file_extension": ".py",
   "mimetype": "text/x-python",
   "name": "python",
   "nbconvert_exporter": "python",
   "pygments_lexer": "ipython3",
   "version": "3.10.9"
  }
 },
 "nbformat": 4,
 "nbformat_minor": 2
}
