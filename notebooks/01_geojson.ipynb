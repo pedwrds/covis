{
 "cells": [
  {
   "cell_type": "code",
   "execution_count": null,
   "metadata": {},
   "outputs": [],
   "source": [
    "import json\n",
    "import pandas as pd\n",
    "import geopandas as gpd\n",
    "\n",
    "from urllib.request import urlopen\n",
    "from covis.utils import get_project_root"
   ]
  },
  {
   "attachments": {},
   "cell_type": "markdown",
   "metadata": {},
   "source": [
    "# acquire some geometry data for later plotting"
   ]
  },
  {
   "attachments": {},
   "cell_type": "markdown",
   "metadata": {},
   "source": [
    "Comment / uncomment to acquire UK-geoJSON, England:"
   ]
  },
  {
   "cell_type": "code",
   "execution_count": null,
   "metadata": {},
   "outputs": [],
   "source": [
    "# eng_html = urlopen(\"https://martinjc.github.io/UK-GeoJSON/json/eng/topo_eer.json\").read()\n",
    "# eng_geojson = json.loads(eng_html)\n",
    "\n",
    "# eng_target = get_project_root() / \"output/eng_geojson.json\"\n",
    "# with open(eng_target, \"w\") as f:\n",
    "#     json.dump(eng_geojson, f, indent=2)"
   ]
  },
  {
   "cell_type": "code",
   "execution_count": null,
   "metadata": {},
   "outputs": [],
   "source": [
    "eng_target = get_project_root() / \"output/eng_geojson.json\"\n",
    "\n",
    "eng_gdf = gpd.read_file(\n",
    "    eng_target,\n",
    "    GEOM_POSSIBLE_NAMES=\"geometry\",\n",
    ")"
   ]
  },
  {
   "cell_type": "code",
   "execution_count": null,
   "metadata": {},
   "outputs": [],
   "source": [
    "# eng_gdf"
   ]
  },
  {
   "attachments": {},
   "cell_type": "markdown",
   "metadata": {},
   "source": [
    "Comment / uncomment to acquire UK-geoJSON, Wales:"
   ]
  },
  {
   "cell_type": "code",
   "execution_count": null,
   "metadata": {},
   "outputs": [],
   "source": [
    "# wal_html = urlopen(\"https://martinjc.github.io/UK-GeoJSON/json/wal/topo_eer.json\").read()\n",
    "# wal_geojson = json.loads(wal_html)\n",
    "\n",
    "# wal_target = get_project_root() / \"output/wal_geojson.json\"\n",
    "# with open(wal_target, \"w\") as f:\n",
    "#     json.dump(wal_geojson, f, indent=2)"
   ]
  },
  {
   "cell_type": "code",
   "execution_count": null,
   "metadata": {},
   "outputs": [],
   "source": [
    "wal_target = get_project_root() / \"output/wal_geojson.json\"\n",
    "\n",
    "wal_gdf = gpd.read_file(\n",
    "    wal_target,\n",
    "    GEOM_POSSIBLE_NAMES=\"geometry\",\n",
    ")"
   ]
  },
  {
   "cell_type": "code",
   "execution_count": null,
   "metadata": {},
   "outputs": [],
   "source": [
    "# wal_gdf"
   ]
  },
  {
   "cell_type": "code",
   "execution_count": null,
   "metadata": {},
   "outputs": [],
   "source": [
    "gdf = pd.concat([eng_gdf, wal_gdf]).set_index(\"id\")"
   ]
  },
  {
   "cell_type": "code",
   "execution_count": null,
   "metadata": {},
   "outputs": [],
   "source": [
    "gdf"
   ]
  },
  {
   "cell_type": "code",
   "execution_count": null,
   "metadata": {},
   "outputs": [],
   "source": [
    "gdf.plot()"
   ]
  },
  {
   "cell_type": "code",
   "execution_count": null,
   "metadata": {},
   "outputs": [],
   "source": [
    "gdf.to_parquet(\n",
    "    get_project_root() / \"output/EWgeo.pkl\"\n",
    ")"
   ]
  },
  {
   "cell_type": "code",
   "execution_count": null,
   "metadata": {},
   "outputs": [],
   "source": [
    "# gpd.read_parquet(\n",
    "#     get_project_root() / \"output/EWgeo.pkl\"\n",
    "# )"
   ]
  },
  {
   "attachments": {},
   "cell_type": "markdown",
   "metadata": {},
   "source": [
    "### dict to map EER13CD to EER13NM"
   ]
  },
  {
   "cell_type": "code",
   "execution_count": null,
   "metadata": {},
   "outputs": [],
   "source": [
    "eer_dict = gdf[\"EER13NM\"].to_dict()\n",
    "# seem to require E1200 numbers further along:\n",
    "eer_dict = {k.replace(\"E15\",\"E12\"): v for k,v in eer_dict.items()}\n",
    "# also correct wales:\n",
    "eer_dict = {\"W92000004\" if k == \"W08000001\" else k:v for k,v in eer_dict.items()}\n",
    "eer_dict"
   ]
  },
  {
   "cell_type": "code",
   "execution_count": null,
   "metadata": {},
   "outputs": [],
   "source": [
    "# eer_target = get_project_root() / \"output/eer_dict.json\"\n",
    "# with open(eer_target, \"w\") as f:\n",
    "#     json.dump(eer_dict, f, indent=2)"
   ]
  },
  {
   "attachments": {},
   "cell_type": "markdown",
   "metadata": {},
   "source": []
  }
 ],
 "metadata": {
  "kernelspec": {
   "display_name": "covis-AUuIUVGj-py3.10",
   "language": "python",
   "name": "python3"
  },
  "language_info": {
   "codemirror_mode": {
    "name": "ipython",
    "version": 3
   },
   "file_extension": ".py",
   "mimetype": "text/x-python",
   "name": "python",
   "nbconvert_exporter": "python",
   "pygments_lexer": "ipython3",
   "version": "3.10.9"
  }
 },
 "nbformat": 4,
 "nbformat_minor": 2
}
